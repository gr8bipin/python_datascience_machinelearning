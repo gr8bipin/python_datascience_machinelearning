{
 "cells": [
  {
   "cell_type": "markdown",
   "metadata": {},
   "source": [
    "# Installing and Getting Started with Pandas"
   ]
  },
  {
   "cell_type": "markdown",
   "metadata": {},
   "source": [
    "# Pandas DataFrame"
   ]
  },
  {
   "cell_type": "code",
   "execution_count": null,
   "metadata": {},
   "outputs": [
    {
     "name": "stdout",
     "output_type": "stream",
     "text": [
      "            State      Capital  Literacy %  Avg High Temp(c)\n",
      "0  Andhra Pradesh    Hyderabad          89                33\n",
      "1      Maharastra       Mumbai          77                30\n",
      "2         Karnata    Bengaluru          82                29\n",
      "3          Kerala  Trivaandrum          97                31\n",
      "4      Tamil Nadu      Chennai          85                32\n"
     ]
    }
   ],
   "source": [
    "import pandas as pd\n",
    "import numpy as np\n",
    "\n",
    "df = pd.DataFrame({\n",
    "    \"State\": ['Andhra Pradesh', 'Maharastra', 'Karnata', 'Kerala', 'Tamil Nadu'],\n",
    "    \"Capital\": ['Hyderabad', 'Mumbai', 'Bengaluru', 'Trivaandrum', 'Chennai'],\n",
    "    \"Literacy %\": [89, 77, 82, 97, 85],\n",
    "    \"Avg High Temp(c)\": [33, 30, 29, 31, 32]\n",
    "})\n",
    "\n",
    "print(df)"
   ]
  },
  {
   "cell_type": "markdown",
   "metadata": {},
   "source": [
    "# Importing data from CSV to DataFrame"
   ]
  },
  {
   "cell_type": "code",
   "execution_count": 7,
   "metadata": {},
   "outputs": [
    {
     "name": "stdout",
     "output_type": "stream",
     "text": [
      "                                                    path          name  \\\n",
      "0      /kaggle/input/benetech-making-graphs-accessibl...  cc68f19b708c   \n",
      "1      /kaggle/input/benetech-making-graphs-accessibl...  0e6a9bca7381   \n",
      "2      /kaggle/input/benetech-making-graphs-accessibl...  ac9680f519f5   \n",
      "3      /kaggle/input/benetech-making-graphs-accessibl...  4a6cce801fe8   \n",
      "4      /kaggle/input/benetech-making-graphs-accessibl...  19938a5762f6   \n",
      "...                                                  ...           ...   \n",
      "60573  /kaggle/input/benetech-making-graphs-accessibl...  d3953f6dc2b6   \n",
      "60574  /kaggle/input/benetech-making-graphs-accessibl...  292f04b08480   \n",
      "60575  /kaggle/input/benetech-making-graphs-accessibl...  2af23469c1d8   \n",
      "60576  /kaggle/input/benetech-making-graphs-accessibl...  fc88838dcd7d   \n",
      "60577  /kaggle/input/benetech-making-graphs-accessibl...  a1733f81c31e   \n",
      "\n",
      "                          annotation                    image     source  \\\n",
      "0      annotations/cc68f19b708c.json  images/cc68f19b708c.jpg  extracted   \n",
      "1      annotations/0e6a9bca7381.json  images/0e6a9bca7381.jpg  generated   \n",
      "2      annotations/ac9680f519f5.json  images/ac9680f519f5.jpg  generated   \n",
      "3      annotations/4a6cce801fe8.json  images/4a6cce801fe8.jpg  generated   \n",
      "4      annotations/19938a5762f6.json  images/19938a5762f6.jpg  generated   \n",
      "...                              ...                      ...        ...   \n",
      "60573  annotations/d3953f6dc2b6.json  images/d3953f6dc2b6.jpg  extracted   \n",
      "60574  annotations/292f04b08480.json  images/292f04b08480.jpg  generated   \n",
      "60575  annotations/2af23469c1d8.json  images/2af23469c1d8.jpg  extracted   \n",
      "60576  annotations/fc88838dcd7d.json  images/fc88838dcd7d.jpg  generated   \n",
      "60577  annotations/a1733f81c31e.json  images/a1733f81c31e.jpg  generated   \n",
      "\n",
      "         chart-type  height  width   x0  y0  \\\n",
      "0              line     236    426   63  15   \n",
      "1              line     190    432   49  35   \n",
      "2           scatter     157    388   58  69   \n",
      "3           scatter     208    410   75  41   \n",
      "4              line     370    400  129  58   \n",
      "...             ...     ...    ...  ...  ..   \n",
      "60573  vertical_bar     180    458   26  35   \n",
      "60574  vertical_bar     176    374   93  32   \n",
      "60575  vertical_bar     338    446   59  37   \n",
      "60576          line     161    410   61  59   \n",
      "60577       scatter     209    407   79  39   \n",
      "\n",
      "                                                  x-axis  \\\n",
      "0      {'ticks': [{'id': 11, 'tick_pt': {'x': 116, 'y...   \n",
      "1      {'ticks': [{'id': 3, 'tick_pt': {'x': 64, 'y':...   \n",
      "2      {'ticks': [{'id': 3, 'tick_pt': {'x': 58, 'y':...   \n",
      "3      {'ticks': [{'id': 12, 'tick_pt': {'x': 75, 'y'...   \n",
      "4      {'ticks': [{'id': 3, 'tick_pt': {'x': 146, 'y'...   \n",
      "...                                                  ...   \n",
      "60573  {'ticks': [{'id': 12, 'tick_pt': {'x': 53, 'y'...   \n",
      "60574  {'ticks': [{'id': 10, 'tick_pt': {'x': 113, 'y...   \n",
      "60575  {'ticks': [{'id': 6, 'tick_pt': {'x': 82, 'y':...   \n",
      "60576  {'ticks': [{'id': 13, 'tick_pt': {'x': 79, 'y'...   \n",
      "60577  {'ticks': [{'id': 3, 'tick_pt': {'x': 79, 'y':...   \n",
      "\n",
      "                                                  y-axis  \\\n",
      "0      {'ticks': [{'id': 1, 'tick_pt': {'x': 63, 'y':...   \n",
      "1      {'ticks': [{'id': 22, 'tick_pt': {'x': 49, 'y'...   \n",
      "2      {'ticks': [{'id': 21, 'tick_pt': {'x': 58, 'y'...   \n",
      "3      {'ticks': [{'id': 11, 'tick_pt': {'x': 75, 'y'...   \n",
      "4      {'ticks': [{'id': 15, 'tick_pt': {'x': 129, 'y...   \n",
      "...                                                  ...   \n",
      "60573  {'ticks': [{'id': 1, 'tick_pt': {'x': 26, 'y':...   \n",
      "60574  {'ticks': [{'id': 3, 'tick_pt': {'x': 93, 'y':...   \n",
      "60575  {'ticks': [{'id': 2, 'tick_pt': {'x': 59, 'y':...   \n",
      "60576  {'ticks': [{'id': 3, 'tick_pt': {'x': 61, 'y':...   \n",
      "60577  {'ticks': [{'id': 18, 'tick_pt': {'x': 79, 'y'...   \n",
      "\n",
      "                                                    text  \\\n",
      "0      [{'id': 0, 'polygon': {'x0': 11, 'x1': 23, 'x2...   \n",
      "1      [{'id': 0, 'polygon': {'x0': 87, 'x1': 395, 'x...   \n",
      "2      [{'id': 0, 'polygon': {'x0': 55, 'x1': 423, 'x...   \n",
      "3      [{'id': 0, 'polygon': {'x0': 85, 'x1': 390, 'x...   \n",
      "4      [{'id': 0, 'polygon': {'x0': 159, 'x1': 498, '...   \n",
      "...                                                  ...   \n",
      "60573  [{'id': 0, 'polygon': {'x0': 193, 'x1': 298, '...   \n",
      "60574  [{'id': 0, 'polygon': {'x0': 47, 'x1': 425, 'x...   \n",
      "60575  [{'id': 0, 'polygon': {'x0': 260, 'x1': 305, '...   \n",
      "60576  [{'id': 0, 'polygon': {'x0': 96, 'x1': 439, 'x...   \n",
      "60577  [{'id': 0, 'polygon': {'x0': 84, 'x1': 364, 'x...   \n",
      "\n",
      "                                             data-series  \n",
      "0      [{'x': '10%', 'y': 1.5481051373212678}, {'x': ...  \n",
      "1      [{'x': '2003', 'y': 90.02927122916589}, {'x': ...  \n",
      "2      [{'x': 1990.101996993773, 'y': 244.25223214285...  \n",
      "3      [{'x': 1989.863678842794, 'y': 1996.1563100576...  \n",
      "4      [{'x': 'Jan', 'y': 26.480671946857434}, {'x': ...  \n",
      "...                                                  ...  \n",
      "60573  [{'x': 'Bar Charts', 'y': 5}, {'x': 'Pie Graph...  \n",
      "60574  [{'x': 'Czechia', 'y': 12496709.238325838}, {'...  \n",
      "60575  [{'x': 'Agriculture', 'y': 0.08553157474020746...  \n",
      "60576  [{'x': 'Channel Islands', 'y': 98.557484776788...  \n",
      "60577  [{'x': 1990.0002048424763, 'y': 11487.98631553...  \n",
      "\n",
      "[60578 rows x 14 columns]\n"
     ]
    }
   ],
   "source": [
    "import pandas as pd\n",
    "\n",
    "data = pd.read_csv('/home/bipinhyoju/Downloads/train.csv')\n",
    "\n",
    "print(data)"
   ]
  },
  {
   "cell_type": "markdown",
   "metadata": {},
   "source": [
    "# Inspecting data in DataFrame"
   ]
  },
  {
   "cell_type": "code",
   "execution_count": 8,
   "metadata": {},
   "outputs": [
    {
     "name": "stdout",
     "output_type": "stream",
     "text": [
      "            State    Capital  Literacy %  Avg High Temp(c)\n",
      "0  Andhra Pradesh  Hyderabad          89                33\n",
      "1      Maharastra     Mumbai          77                30\n"
     ]
    }
   ],
   "source": [
    "print(df.head(2))"
   ]
  },
  {
   "cell_type": "code",
   "execution_count": 10,
   "metadata": {},
   "outputs": [
    {
     "name": "stdout",
     "output_type": "stream",
     "text": [
      "        State  Capital  Literacy %  Avg High Temp(c)\n",
      "4  Tamil Nadu  Chennai          85                32\n"
     ]
    }
   ],
   "source": [
    "print(df.tail(1))"
   ]
  },
  {
   "cell_type": "code",
   "execution_count": 12,
   "metadata": {},
   "outputs": [
    {
     "name": "stdout",
     "output_type": "stream",
     "text": [
      "State               object\n",
      "Capital             object\n",
      "Literacy %           int64\n",
      "Avg High Temp(c)     int64\n",
      "dtype: object\n"
     ]
    }
   ],
   "source": [
    "print(df.dtypes)"
   ]
  },
  {
   "cell_type": "code",
   "execution_count": 13,
   "metadata": {},
   "outputs": [
    {
     "name": "stdout",
     "output_type": "stream",
     "text": [
      "RangeIndex(start=0, stop=5, step=1)\n"
     ]
    }
   ],
   "source": [
    "print(df.index)"
   ]
  },
  {
   "cell_type": "code",
   "execution_count": 14,
   "metadata": {},
   "outputs": [
    {
     "name": "stdout",
     "output_type": "stream",
     "text": [
      "Index(['State', 'Capital', 'Literacy %', 'Avg High Temp(c)'], dtype='object')\n"
     ]
    }
   ],
   "source": [
    "print(df.columns)"
   ]
  },
  {
   "cell_type": "code",
   "execution_count": 15,
   "metadata": {},
   "outputs": [
    {
     "name": "stdout",
     "output_type": "stream",
     "text": [
      "[['Andhra Pradesh' 'Hyderabad' 89 33]\n",
      " ['Maharastra' 'Mumbai' 77 30]\n",
      " ['Karnata' 'Bengaluru' 82 29]\n",
      " ['Kerala' 'Trivaandrum' 97 31]\n",
      " ['Tamil Nadu' 'Chennai' 85 32]]\n"
     ]
    }
   ],
   "source": [
    "print(df.values)"
   ]
  },
  {
   "cell_type": "code",
   "execution_count": 19,
   "metadata": {},
   "outputs": [],
   "source": [
    "# 1. Getting Statistical summary of records"
   ]
  },
  {
   "cell_type": "code",
   "execution_count": 18,
   "metadata": {},
   "outputs": [
    {
     "name": "stdout",
     "output_type": "stream",
     "text": [
      "count     5.000000\n",
      "mean     86.000000\n",
      "std       7.549834\n",
      "min      77.000000\n",
      "25%      82.000000\n",
      "50%      85.000000\n",
      "75%      89.000000\n",
      "max      97.000000\n",
      "Name: Literacy %, dtype: float64\n"
     ]
    }
   ],
   "source": [
    "print(df['Literacy %'].describe())"
   ]
  },
  {
   "cell_type": "markdown",
   "metadata": {},
   "source": [
    "# 2.Sorting records"
   ]
  },
  {
   "cell_type": "code",
   "execution_count": 20,
   "metadata": {},
   "outputs": [
    {
     "name": "stdout",
     "output_type": "stream",
     "text": [
      "            State      Capital  Literacy %  Avg High Temp(c)\n",
      "3          Kerala  Trivaandrum          97                31\n",
      "0  Andhra Pradesh    Hyderabad          89                33\n",
      "4      Tamil Nadu      Chennai          85                32\n",
      "2         Karnata    Bengaluru          82                29\n",
      "1      Maharastra       Mumbai          77                30\n"
     ]
    }
   ],
   "source": [
    "print(df.sort_values('Literacy %', ascending=False))"
   ]
  },
  {
   "cell_type": "markdown",
   "metadata": {},
   "source": [
    "# 3. Slicing records"
   ]
  },
  {
   "cell_type": "code",
   "execution_count": 23,
   "metadata": {},
   "outputs": [
    {
     "data": {
      "text/plain": [
       "0      Hyderabad\n",
       "1         Mumbai\n",
       "2      Bengaluru\n",
       "3    Trivaandrum\n",
       "4        Chennai\n",
       "Name: Capital, dtype: object"
      ]
     },
     "execution_count": 23,
     "metadata": {},
     "output_type": "execute_result"
    }
   ],
   "source": [
    "df['Capital']"
   ]
  },
  {
   "cell_type": "code",
   "execution_count": 24,
   "metadata": {},
   "outputs": [
    {
     "name": "stdout",
     "output_type": "stream",
     "text": [
      "            State      Capital\n",
      "0  Andhra Pradesh    Hyderabad\n",
      "1      Maharastra       Mumbai\n",
      "2         Karnata    Bengaluru\n",
      "3          Kerala  Trivaandrum\n",
      "4      Tamil Nadu      Chennai\n"
     ]
    }
   ],
   "source": [
    "print(df[['State', 'Capital']])"
   ]
  },
  {
   "cell_type": "code",
   "execution_count": 25,
   "metadata": {},
   "outputs": [
    {
     "data": {
      "text/html": [
       "<div>\n",
       "<style scoped>\n",
       "    .dataframe tbody tr th:only-of-type {\n",
       "        vertical-align: middle;\n",
       "    }\n",
       "\n",
       "    .dataframe tbody tr th {\n",
       "        vertical-align: top;\n",
       "    }\n",
       "\n",
       "    .dataframe thead th {\n",
       "        text-align: right;\n",
       "    }\n",
       "</style>\n",
       "<table border=\"1\" class=\"dataframe\">\n",
       "  <thead>\n",
       "    <tr style=\"text-align: right;\">\n",
       "      <th></th>\n",
       "      <th>State</th>\n",
       "      <th>Capital</th>\n",
       "      <th>Literacy %</th>\n",
       "      <th>Avg High Temp(c)</th>\n",
       "    </tr>\n",
       "  </thead>\n",
       "  <tbody>\n",
       "    <tr>\n",
       "      <th>0</th>\n",
       "      <td>Andhra Pradesh</td>\n",
       "      <td>Hyderabad</td>\n",
       "      <td>89</td>\n",
       "      <td>33</td>\n",
       "    </tr>\n",
       "    <tr>\n",
       "      <th>1</th>\n",
       "      <td>Maharastra</td>\n",
       "      <td>Mumbai</td>\n",
       "      <td>77</td>\n",
       "      <td>30</td>\n",
       "    </tr>\n",
       "    <tr>\n",
       "      <th>2</th>\n",
       "      <td>Karnata</td>\n",
       "      <td>Bengaluru</td>\n",
       "      <td>82</td>\n",
       "      <td>29</td>\n",
       "    </tr>\n",
       "  </tbody>\n",
       "</table>\n",
       "</div>"
      ],
      "text/plain": [
       "            State    Capital  Literacy %  Avg High Temp(c)\n",
       "0  Andhra Pradesh  Hyderabad          89                33\n",
       "1      Maharastra     Mumbai          77                30\n",
       "2         Karnata  Bengaluru          82                29"
      ]
     },
     "execution_count": 25,
     "metadata": {},
     "output_type": "execute_result"
    }
   ],
   "source": [
    "df[0:3]"
   ]
  },
  {
   "cell_type": "markdown",
   "metadata": {},
   "source": [
    "# 4. Filtering data"
   ]
  },
  {
   "cell_type": "code",
   "execution_count": 29,
   "metadata": {},
   "outputs": [
    {
     "name": "stdout",
     "output_type": "stream",
     "text": [
      "    State      Capital  Literacy %  Avg High Temp(c)\n",
      "3  Kerala  Trivaandrum          97                31\n"
     ]
    }
   ],
   "source": [
    "print(df[df['Literacy %']>90])"
   ]
  },
  {
   "cell_type": "code",
   "execution_count": 34,
   "metadata": {},
   "outputs": [
    {
     "name": "stdout",
     "output_type": "stream",
     "text": [
      "        State    Capital  Literacy %  Avg High Temp(c)\n",
      "2     Karnata  Bengaluru          82                29\n",
      "4  Tamil Nadu    Chennai          85                32\n"
     ]
    }
   ],
   "source": [
    "print(df[df['State'].isin(['Tamil Nadu', 'Karnata'])])"
   ]
  },
  {
   "cell_type": "markdown",
   "metadata": {},
   "source": [
    "# 5. Rename column"
   ]
  },
  {
   "cell_type": "code",
   "execution_count": 35,
   "metadata": {},
   "outputs": [
    {
     "name": "stdout",
     "output_type": "stream",
     "text": [
      "            State      Capital  Literacy percentage  Avg High Temp(c)\n",
      "0  Andhra Pradesh    Hyderabad                   89                33\n",
      "1      Maharastra       Mumbai                   77                30\n",
      "2         Karnata    Bengaluru                   82                29\n",
      "3          Kerala  Trivaandrum                   97                31\n",
      "4      Tamil Nadu      Chennai                   85                32\n"
     ]
    }
   ],
   "source": [
    "df.rename(columns = {'Literacy %': 'Literacy percentage'}, inplace=True)\n",
    "print(df.head())"
   ]
  },
  {
   "cell_type": "markdown",
   "metadata": {},
   "source": [
    "# 6. Data Wrangling"
   ]
  },
  {
   "cell_type": "code",
   "execution_count": 37,
   "metadata": {},
   "outputs": [
    {
     "name": "stdout",
     "output_type": "stream",
     "text": [
      "  Employee_id Employee_name\n",
      "0           1        Akshar\n",
      "1           2         Jones\n",
      "2           3          Kate\n",
      "3           4          Mike\n",
      "4           5          Tina\n"
     ]
    }
   ],
   "source": [
    "import pandas as pd\n",
    "\n",
    "d = {\n",
    "    'Employee_id': ['1', '2', '3', '4', '5'],\n",
    "    'Employee_name': ['Akshar', 'Jones', 'Kate', 'Mike', 'Tina']\n",
    "}\n",
    "\n",
    "df1 = pd.DataFrame(d, columns=['Employee_id', 'Employee_name'])\n",
    "\n",
    "print(df1)"
   ]
  },
  {
   "cell_type": "code",
   "execution_count": 38,
   "metadata": {},
   "outputs": [
    {
     "name": "stdout",
     "output_type": "stream",
     "text": [
      "  Employee_id Employee_name\n",
      "0           4         Meera\n",
      "1           5           Tia\n",
      "2           6        Varsha\n",
      "3           7      Williams\n",
      "4           8          Ziva\n"
     ]
    }
   ],
   "source": [
    "import pandas as pd\n",
    "\n",
    "data = {\n",
    "    'Employee_id': ['4', '5', '6', '7', '8'],\n",
    "    'Employee_name': ['Meera', 'Tia', 'Varsha', 'Williams', 'Ziva']\n",
    "}\n",
    "\n",
    "df2 = pd.DataFrame(data, columns=['Employee_id', 'Employee_name'])\n",
    "\n",
    "print(df2)"
   ]
  },
  {
   "cell_type": "markdown",
   "metadata": {},
   "source": [
    "# a. Merging"
   ]
  },
  {
   "cell_type": "code",
   "execution_count": 39,
   "metadata": {},
   "outputs": [
    {
     "name": "stdout",
     "output_type": "stream",
     "text": [
      "  Employee_id Employee_name_x Employee_name_y\n",
      "0           4            Mike           Meera\n",
      "1           5            Tina             Tia\n"
     ]
    }
   ],
   "source": [
    "print(pd.merge(df1, df2, on='Employee_id'))"
   ]
  },
  {
   "cell_type": "markdown",
   "metadata": {},
   "source": [
    "# b. Grouping"
   ]
  },
  {
   "cell_type": "code",
   "execution_count": 41,
   "metadata": {},
   "outputs": [
    {
     "name": "stdout",
     "output_type": "stream",
     "text": [
      "  Employee_id Employee_name\n",
      "0           4         Meera\n",
      "1           5         Meera\n"
     ]
    }
   ],
   "source": [
    "import pandas as pd\n",
    "import numpy as np\n",
    "\n",
    "data = {\n",
    "    'Employee_id': ['4', '5', '6', '7', '8'],\n",
    "    'Employee_name': ['Meera', 'Meera', 'Varsha', 'Williams', 'Ziva']\n",
    "}\n",
    "\n",
    "df2 = pd.DataFrame(data)\n",
    "\n",
    "group = df2.groupby('Employee_name')\n",
    "\n",
    "print(group.get_group('Meera'))"
   ]
  },
  {
   "cell_type": "markdown",
   "metadata": {},
   "source": [
    "# c. Concatenating"
   ]
  },
  {
   "cell_type": "code",
   "execution_count": 42,
   "metadata": {},
   "outputs": [
    {
     "name": "stdout",
     "output_type": "stream",
     "text": [
      "  Employee_id Employee_name\n",
      "0           1        Akshar\n",
      "1           2         Jones\n",
      "2           3          Kate\n",
      "3           4          Mike\n",
      "4           5          Tina\n",
      "0           4         Meera\n",
      "1           5         Meera\n",
      "2           6        Varsha\n",
      "3           7      Williams\n",
      "4           8          Ziva\n"
     ]
    }
   ],
   "source": [
    "print(pd.concat([df1, df2]))"
   ]
  },
  {
   "cell_type": "markdown",
   "metadata": {},
   "source": [
    "# Create a DataFrame by passing Dict of Series"
   ]
  },
  {
   "cell_type": "code",
   "execution_count": 43,
   "metadata": {},
   "outputs": [
    {
     "name": "stdout",
     "output_type": "stream",
     "text": [
      "0    100\n",
      "1    200\n",
      "2    300\n",
      "3    400\n",
      "dtype: int64\n"
     ]
    }
   ],
   "source": [
    "series_sample = pd.Series([100, 200, 300, 400])\n",
    "print(series_sample)"
   ]
  },
  {
   "cell_type": "code",
   "execution_count": 44,
   "metadata": {},
   "outputs": [
    {
     "name": "stdout",
     "output_type": "stream",
     "text": [
      "        Matches played  Position\n",
      "Dravid             NaN         4\n",
      "Kohli            300.0         2\n",
      "Raina            200.0         3\n",
      "Sachin           400.0         1\n"
     ]
    }
   ],
   "source": [
    "d = {'Matches played': pd.Series([400, 300, 200], index=['Sachin', 'Kohli', 'Raina']),\n",
    "     'Position': pd.Series([1, 2, 3, 4], index=['Sachin', 'Kohli', 'Raina', 'Dravid'])}\n",
    "\n",
    "df = pd.DataFrame(d)\n",
    "\n",
    "print(df)"
   ]
  },
  {
   "cell_type": "markdown",
   "metadata": {},
   "source": [
    "# Column Selection, Addition, Deletion"
   ]
  },
  {
   "cell_type": "code",
   "execution_count": 45,
   "metadata": {},
   "outputs": [
    {
     "name": "stdout",
     "output_type": "stream",
     "text": [
      "Dravid      NaN\n",
      "Kohli     300.0\n",
      "Raina     200.0\n",
      "Sachin    400.0\n",
      "Name: Matches played, dtype: float64\n"
     ]
    }
   ],
   "source": [
    "d = {'Matches played': pd.Series([400, 300,200], index=['Sachin', 'Kohli', 'Raina']),\n",
    "'Position': pd.Series([1, 2, 3, 4], index=['Sachin', 'Kohli', 'Raina', 'Dravid'])}\n",
    "\n",
    "df = pd.DataFrame(d)\n",
    "\n",
    "print(df['Matches played'])"
   ]
  },
  {
   "cell_type": "code",
   "execution_count": null,
   "metadata": {},
   "outputs": [],
   "source": [
    "d = {'Matches played': pd.Series([400, 300, 200], index = ['Sachin', 'Kohli', 'Raina']),\n",
    "     'Position': pd.Series([1, 2, 3, 4], index= ['Sachin', 'Kohli', 'Raina', 'Dravid'])}\n",
    "\n",
    "df = pd.DataFrame(d)\n",
    "\n",
    "df['Runrate']"
   ]
  }
 ],
 "metadata": {
  "kernelspec": {
   "display_name": "venv",
   "language": "python",
   "name": "python3"
  },
  "language_info": {
   "codemirror_mode": {
    "name": "ipython",
    "version": 3
   },
   "file_extension": ".py",
   "mimetype": "text/x-python",
   "name": "python",
   "nbconvert_exporter": "python",
   "pygments_lexer": "ipython3",
   "version": "3.12.3"
  }
 },
 "nbformat": 4,
 "nbformat_minor": 2
}
