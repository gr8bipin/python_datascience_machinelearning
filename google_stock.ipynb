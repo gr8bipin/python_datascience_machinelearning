{
 "cells": [
  {
   "cell_type": "markdown",
   "metadata": {},
   "source": [
    "# Google Stock Data ANalyis and Prediction"
   ]
  },
  {
   "cell_type": "code",
   "execution_count": 1,
   "metadata": {},
   "outputs": [],
   "source": [
    "# import dependencies\n",
    "import pandas as pd"
   ]
  },
  {
   "cell_type": "code",
   "execution_count": 32,
   "metadata": {},
   "outputs": [],
   "source": [
    "# file path\n",
    "file_path = 'googl_data_2020_2025.csv'\n",
    "# skipping first 2 rows, as they contain metadata\n",
    "df = pd.read_csv(file_path, skiprows=2) "
   ]
  },
  {
   "cell_type": "code",
   "execution_count": 33,
   "metadata": {},
   "outputs": [],
   "source": [
    "df.columns = ['Date', 'Adj Close', 'Close', 'High', 'Low', 'Open', 'Volume']"
   ]
  },
  {
   "cell_type": "code",
   "execution_count": 34,
   "metadata": {},
   "outputs": [],
   "source": [
    "#convert Date to datetime format using pandas\n",
    "df['Date'] = pd.to_datetime(df['Date'])"
   ]
  },
  {
   "cell_type": "code",
   "execution_count": 35,
   "metadata": {},
   "outputs": [],
   "source": [
    "#setting index to Date\n",
    "df.set_index('Date', inplace=True)"
   ]
  },
  {
   "cell_type": "code",
   "execution_count": 36,
   "metadata": {},
   "outputs": [
    {
     "data": {
      "text/html": [
       "<div>\n",
       "<style scoped>\n",
       "    .dataframe tbody tr th:only-of-type {\n",
       "        vertical-align: middle;\n",
       "    }\n",
       "\n",
       "    .dataframe tbody tr th {\n",
       "        vertical-align: top;\n",
       "    }\n",
       "\n",
       "    .dataframe thead th {\n",
       "        text-align: right;\n",
       "    }\n",
       "</style>\n",
       "<table border=\"1\" class=\"dataframe\">\n",
       "  <thead>\n",
       "    <tr style=\"text-align: right;\">\n",
       "      <th></th>\n",
       "      <th>Adj Close</th>\n",
       "      <th>Close</th>\n",
       "      <th>High</th>\n",
       "      <th>Low</th>\n",
       "      <th>Open</th>\n",
       "      <th>Volume</th>\n",
       "    </tr>\n",
       "    <tr>\n",
       "      <th>Date</th>\n",
       "      <th></th>\n",
       "      <th></th>\n",
       "      <th></th>\n",
       "      <th></th>\n",
       "      <th></th>\n",
       "      <th></th>\n",
       "    </tr>\n",
       "  </thead>\n",
       "  <tbody>\n",
       "    <tr>\n",
       "      <th>2020-01-02 00:00:00+00:00</th>\n",
       "      <td>68.186821</td>\n",
       "      <td>68.433998</td>\n",
       "      <td>68.433998</td>\n",
       "      <td>67.324501</td>\n",
       "      <td>67.420502</td>\n",
       "      <td>27278000</td>\n",
       "    </tr>\n",
       "    <tr>\n",
       "      <th>2020-01-03 00:00:00+00:00</th>\n",
       "      <td>67.830101</td>\n",
       "      <td>68.075996</td>\n",
       "      <td>68.687500</td>\n",
       "      <td>67.365997</td>\n",
       "      <td>67.400002</td>\n",
       "      <td>23408000</td>\n",
       "    </tr>\n",
       "    <tr>\n",
       "      <th>2020-01-06 00:00:00+00:00</th>\n",
       "      <td>69.638054</td>\n",
       "      <td>69.890503</td>\n",
       "      <td>69.916000</td>\n",
       "      <td>67.550003</td>\n",
       "      <td>67.581497</td>\n",
       "      <td>46768000</td>\n",
       "    </tr>\n",
       "    <tr>\n",
       "      <th>2020-01-07 00:00:00+00:00</th>\n",
       "      <td>69.503548</td>\n",
       "      <td>69.755501</td>\n",
       "      <td>70.175003</td>\n",
       "      <td>69.578003</td>\n",
       "      <td>70.023003</td>\n",
       "      <td>34330000</td>\n",
       "    </tr>\n",
       "    <tr>\n",
       "      <th>2020-01-08 00:00:00+00:00</th>\n",
       "      <td>69.998253</td>\n",
       "      <td>70.251999</td>\n",
       "      <td>70.592499</td>\n",
       "      <td>69.631500</td>\n",
       "      <td>69.740997</td>\n",
       "      <td>35314000</td>\n",
       "    </tr>\n",
       "  </tbody>\n",
       "</table>\n",
       "</div>"
      ],
      "text/plain": [
       "                           Adj Close      Close       High        Low  \\\n",
       "Date                                                                    \n",
       "2020-01-02 00:00:00+00:00  68.186821  68.433998  68.433998  67.324501   \n",
       "2020-01-03 00:00:00+00:00  67.830101  68.075996  68.687500  67.365997   \n",
       "2020-01-06 00:00:00+00:00  69.638054  69.890503  69.916000  67.550003   \n",
       "2020-01-07 00:00:00+00:00  69.503548  69.755501  70.175003  69.578003   \n",
       "2020-01-08 00:00:00+00:00  69.998253  70.251999  70.592499  69.631500   \n",
       "\n",
       "                                Open    Volume  \n",
       "Date                                            \n",
       "2020-01-02 00:00:00+00:00  67.420502  27278000  \n",
       "2020-01-03 00:00:00+00:00  67.400002  23408000  \n",
       "2020-01-06 00:00:00+00:00  67.581497  46768000  \n",
       "2020-01-07 00:00:00+00:00  70.023003  34330000  \n",
       "2020-01-08 00:00:00+00:00  69.740997  35314000  "
      ]
     },
     "execution_count": 36,
     "metadata": {},
     "output_type": "execute_result"
    }
   ],
   "source": [
    "df.head()"
   ]
  },
  {
   "cell_type": "code",
   "execution_count": 37,
   "metadata": {},
   "outputs": [
    {
     "data": {
      "text/plain": [
       "Adj Close    0\n",
       "Close        0\n",
       "High         0\n",
       "Low          0\n",
       "Open         0\n",
       "Volume       0\n",
       "dtype: int64"
      ]
     },
     "execution_count": 37,
     "metadata": {},
     "output_type": "execute_result"
    }
   ],
   "source": [
    "#check missing values\n",
    "df.isnull().sum()"
   ]
  },
  {
   "cell_type": "code",
   "execution_count": 38,
   "metadata": {},
   "outputs": [
    {
     "data": {
      "image/png": "[encoded data removed]",
      "text/plain": [
       "<Figure size 1000x600 with 1 Axes>"
      ]
     },
     "metadata": {},
     "output_type": "display_data"
    }
   ],
   "source": [
    "# time series line plot (Stock Price over time)\n",
    "\n",
    "import matplotlib.pyplot as plt\n",
    "\n",
    "plt.figure(figsize=(10, 6))\n",
    "plt.plot(df.index, df[\"Adj Close\"], label=\"Adjusted Close Price\", color=\"Blue\")\n",
    "plt.xlabel('Date')\n",
    "plt.ylabel(\"Stock Price\")\n",
    "plt.title(\"Google Stock Price Trend (2020-2025)\")\n",
    "plt.legend()\n",
    "plt.grid(True)\n",
    "plt.show()"
   ]
  },
  {
   "cell_type": "code",
   "execution_count": 39,
   "metadata": {},
   "outputs": [
    {
     "data": {
      "application/vnd.plotly.v1+json": {
       "config": {
        "plotlyServerURL": "https://plot.ly"
       },
       "data": [
        {
         "close": {
          "bdata": "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",
          "dtype": "f8"
         },
         "high": {
          "bdata": "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",
          "dtype": "f8"
         },
         "low": {
          "bdata": "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",
          "dtype": "f8"
         },
         "open": {
          "bdata": "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",
          "dtype": "f8"
         },
         "type": "candlestick",
         "x": [
          "2020-01-02T00:00:00+00:00",
          "2020-01-03T00:00:00+00:00",
          "2020-01-06T00:00:00+00:00",
          "2020-01-07T00:00:00+00:00",
          "2020-01-08T00:00:00+00:00",
          "2020-01-09T00:00:00+00:00",
          "2020-01-10T00:00:00+00:00",
          "2020-01-13T00:00:00+00:00",
          "2020-01-14T00:00:00+00:00",
          "2020-01-15T00:00:00+00:00",
          "2020-01-16T00:00:00+00:00",
          "2020-01-17T00:00:00+00:00",
          "2020-01-21T00:00:00+00:00",
          "2020-01-22T00:00:00+00:00",
          "2020-01-23T00:00:00+00:00",
          "2020-01-24T00:00:00+00:00",
          "2020-01-27T00:00:00+00:00",
          "2020-01-28T00:00:00+00:00",
          "2020-01-29T00:00:00+00:00",
          "2020-01-30T00:00:00+00:00",
          "2020-01-31T00:00:00+00:00",
          "2020-02-03T00:00:00+00:00",
          "2020-02-04T00:00:00+00:00",
          "2020-02-05T00:00:00+00:00",
          "2020-02-06T00:00:00+00:00",
          "2020-02-07T00:00:00+00:00",
          "2020-02-10T00:00:00+00:00",
          "2020-02-11T00:00:00+00:00",
          "2020-02-12T00:00:00+00:00",
          "2020-02-13T00:00:00+00:00",
          "2020-02-14T00:00:00+00:00",
          "2020-02-18T00:00:00+00:00",
          "2020-02-19T00:00:00+00:00",
          "2020-02-20T00:00:00+00:00",
          "2020-02-21T00:00:00+00:00",
          "2020-02-24T00:00:00+00:00",
          "2020-02-25T00:00:00+00:00",
          "2020-02-26T00:00:00+00:00",
          "2020-02-27T00:00:00+00:00",
          "2020-02-28T00:00:00+00:00",
          "2020-03-02T00:00:00+00:00",
          "2020-03-03T00:00:00+00:00",
          "2020-03-04T00:00:00+00:00",
          "2020-03-05T00:00:00+00:00",
          "2020-03-06T00:00:00+00:00",
          "2020-03-09T00:00:00+00:00",
          "2020-03-10T00:00:00+00:00",
          "2020-03-11T00:00:00+00:00",
          "2020-03-12T00:00:00+00:00",
          "2020-03-13T00:00:00+00:00",
          "2020-03-16T00:00:00+00:00",
          "2020-03-17T00:00:00+00:00",
          "2020-03-18T00:00:00+00:00",
          "2020-03-19T00:00:00+00:00",
          "2020-03-20T00:00:00+00:00",
          "2020-03-23T00:00:00+00:00",
          "2020-03-24T00:00:00+00:00",
          "2020-03-25T00:00:00+00:00",
          "2020-03-26T00:00:00+00:00",
          "2020-03-27T00:00:00+00:00",
          "2020-03-30T00:00:00+00:00",
          "2020-03-31T00:00:00+00:00",
          "2020-04-01T00:00:00+00:00",
          "2020-04-02T00:00:00+00:00",
          "2020-04-03T00:00:00+00:00",
          "2020-04-06T00:00:00+00:00",
          "2020-04-07T00:00:00+00:00",
          "2020-04-08T00:00:00+00:00",
          "2020-04-09T00:00:00+00:00",
          "2020-04-13T00:00:00+00:00",
          "2020-04-14T00:00:00+00:00",
          "2020-04-15T00:00:00+00:00",
          "2020-04-16T00:00:00+00:00",
          "2020-04-17T00:00:00+00:00",
          "2020-04-20T00:00:00+00:00",
          "2020-04-21T00:00:00+00:00",
          "2020-04-22T00:00:00+00:00",
          "2020-04-23T00:00:00+00:00",
          "2020-04-24T00:00:00+00:00",
          "2020-04-27T00:00:00+00:00",
          "2020-04-28T00:00:00+00:00",
          "2020-04-29T00:00:00+00:00",
          "2020-04-30T00:00:00+00:00",
          "2020-05-01T00:00:00+00:00",
          "2020-05-04T00:00:00+00:00",
          "2020-05-05T00:00:00+00:00",
          "2020-05-06T00:00:00+00:00",
          "2020-05-07T00:00:00+00:00",
          "2020-05-08T00:00:00+00:00",
          "2020-05-11T00:00:00+00:00",
          "2020-05-12T00:00:00+00:00",
          "2020-05-13T00:00:00+00:00",
          "2020-05-14T00:00:00+00:00",
          "2020-05-15T00:00:00+00:00",
          "2020-05-18T00:00:00+00:00",
          "2020-05-19T00:00:00+00:00",
          "2020-05-20T00:00:00+00:00",
          "2020-05-21T00:00:00+00:00",
          "2020-05-22T00:00:00+00:00",
          "2020-05-26T00:00:00+00:00",
          "2020-05-27T00:00:00+00:00",
          "2020-05-28T00:00:00+00:00",
          "2020-05-29T00:00:00+00:00",
          "2020-06-01T00:00:00+00:00",
          "2020-06-02T00:00:00+00:00",
          "2020-06-03T00:00:00+00:00",
          "2020-06-04T00:00:00+00:00",
          "2020-06-05T00:00:00+00:00",
          "2020-06-08T00:00:00+00:00",
          "2020-06-09T00:00:00+00:00",
          "2020-06-10T00:00:00+00:00",
          "2020-06-11T00:00:00+00:00",
          "2020-06-12T00:00:00+00:00",
          "2020-06-15T00:00:00+00:00",
          "2020-06-16T00:00:00+00:00",
          "2020-06-17T00:00:00+00:00",
          "2020-06-18T00:00:00+00:00",
          "2020-06-19T00:00:00+00:00",
          "2020-06-22T00:00:00+00:00",
          "2020-06-23T00:00:00+00:00",
          "2020-06-24T00:00:00+00:00",
          "2020-06-25T00:00:00+00:00",
          "2020-06-26T00:00:00+00:00",
          "2020-06-29T00:00:00+00:00",
          "2020-06-30T00:00:00+00:00",
          "2020-07-01T00:00:00+00:00",
          "2020-07-02T00:00:00+00:00",
          "2020-07-06T00:00:00+00:00",
          "2020-07-07T00:00:00+00:00",
          "2020-07-08T00:00:00+00:00",
          "2020-07-09T00:00:00+00:00",
          "2020-07-10T00:00:00+00:00",
          "2020-07-13T00:00:00+00:00",
          "2020-07-14T00:00:00+00:00",
          "2020-07-15T00:00:00+00:00",
          "2020-07-16T00:00:00+00:00",
          "2020-07-17T00:00:00+00:00",
          "2020-07-20T00:00:00+00:00",
          "2020-07-21T00:00:00+00:00",
          "2020-07-22T00:00:00+00:00",
          "2020-07-23T00:00:00+00:00",
          "2020-07-24T00:00:00+00:00",
          "2020-07-27T00:00:00+00:00",
          "2020-07-28T00:00:00+00:00",
          "2020-07-29T00:00:00+00:00",
          "2020-07-30T00:00:00+00:00",
          "2020-07-31T00:00:00+00:00",
          "2020-08-03T00:00:00+00:00",
          "2020-08-04T00:00:00+00:00",
          "2020-08-05T00:00:00+00:00",
          "2020-08-06T00:00:00+00:00",
          "2020-08-07T00:00:00+00:00",
          "2020-08-10T00:00:00+00:00",
          "2020-08-11T00:00:00+00:00",
          "2020-08-12T00:00:00+00:00",
          "2020-08-13T00:00:00+00:00",
          "2020-08-14T00:00:00+00:00",
          "2020-08-17T00:00:00+00:00",
          "2020-08-18T00:00:00+00:00",
          "2020-08-19T00:00:00+00:00",
          "2020-08-20T00:00:00+00:00",
          "2020-08-21T00:00:00+00:00",
          "2020-08-24T00:00:00+00:00",
          "2020-08-25T00:00:00+00:00",
          "2020-08-26T00:00:00+00:00",
          "2020-08-27T00:00:00+00:00",
          "2020-08-28T00:00:00+00:00",
          "2020-08-31T00:00:00+00:00",
          "2020-09-01T00:00:00+00:00",
          "2020-09-02T00:00:00+00:00",
          "2020-09-03T00:00:00+00:00",
          "2020-09-04T00:00:00+00:00",
          "2020-09-08T00:00:00+00:00",
          "2020-09-09T00:00:00+00:00",
          "2020-09-10T00:00:00+00:00",
          "2020-09-11T00:00:00+00:00",
          "2020-09-14T00:00:00+00:00",
          "2020-09-15T00:00:00+00:00",
          "2020-09-16T00:00:00+00:00",
          "2020-09-17T00:00:00+00:00",
          "2020-09-18T00:00:00+00:00",
          "2020-09-21T00:00:00+00:00",
          "2020-09-22T00:00:00+00:00",
          "2020-09-23T00:00:00+00:00",
          "2020-09-24T00:00:00+00:00",
          "2020-09-25T00:00:00+00:00",
          "2020-09-28T00:00:00+00:00",
          "2020-09-29T00:00:00+00:00",
          "2020-09-30T00:00:00+00:00",
          "2020-10-01T00:00:00+00:00",
          "2020-10-02T00:00:00+00:00",
          "2020-10-05T00:00:00+00:00",
          "2020-10-06T00:00:00+00:00",
          "2020-10-07T00:00:00+00:00",
          "2020-10-08T00:00:00+00:00",
          "2020-10-09T00:00:00+00:00",
          "2020-10-12T00:00:00+00:00",
          "2020-10-13T00:00:00+00:00",
          "2020-10-14T00:00:00+00:00",
          "2020-10-15T00:00:00+00:00",
          "2020-10-16T00:00:00+00:00",
          "2020-10-19T00:00:00+00:00",
          "2020-10-20T00:00:00+00:00",
          "2020-10-21T00:00:00+00:00",
          "2020-10-22T00:00:00+00:00",
          "2020-10-23T00:00:00+00:00",
          "2020-10-26T00:00:00+00:00",
          "2020-10-27T00:00:00+00:00",
          "2020-10-28T00:00:00+00:00",
          "2020-10-29T00:00:00+00:00",
          "2020-10-30T00:00:00+00:00",
          "2020-11-02T00:00:00+00:00",
          "2020-11-03T00:00:00+00:00",
          "2020-11-04T00:00:00+00:00",
          "2020-11-05T00:00:00+00:00",
          "2020-11-06T00:00:00+00:00",
          "2020-11-09T00:00:00+00:00",
          "2020-11-10T00:00:00+00:00",
          "2020-11-11T00:00:00+00:00",
          "2020-11-12T00:00:00+00:00",
          "2020-11-13T00:00:00+00:00",
          "2020-11-16T00:00:00+00:00",
          "2020-11-17T00:00:00+00:00",
          "2020-11-18T00:00:00+00:00",
          "2020-11-19T00:00:00+00:00",
          "2020-11-20T00:00:00+00:00",
          "2020-11-23T00:00:00+00:00",
          "2020-11-24T00:00:00+00:00",
          "2020-11-25T00:00:00+00:00",
          "2020-11-27T00:00:00+00:00",
          "2020-11-30T00:00:00+00:00",
          "2020-12-01T00:00:00+00:00",
          "2020-12-02T00:00:00+00:00",
          "2020-12-03T00:00:00+00:00",
          "2020-12-04T00:00:00+00:00",
          "2020-12-07T00:00:00+00:00",
          "2020-12-08T00:00:00+00:00",
          "2020-12-09T00:00:00+00:00",
          "2020-12-10T00:00:00+00:00",
          "2020-12-11T00:00:00+00:00",
          "2020-12-14T00:00:00+00:00",
          "2020-12-15T00:00:00+00:00",
          "2020-12-16T00:00:00+00:00",
          "2020-12-17T00:00:00+00:00",
          "2020-12-18T00:00:00+00:00",
          "2020-12-21T00:00:00+00:00",
          "2020-12-22T00:00:00+00:00",
          "2020-12-23T00:00:00+00:00",
          "2020-12-24T00:00:00+00:00",
          "2020-12-28T00:00:00+00:00",
          "2020-12-29T00:00:00+00:00",
          "2020-12-30T00:00:00+00:00",
          "2020-12-31T00:00:00+00:00",
          "2021-01-04T00:00:00+00:00",
          "2021-01-05T00:00:00+00:00",
          "2021-01-06T00:00:00+00:00",
          "2021-01-07T00:00:00+00:00",
          "2021-01-08T00:00:00+00:00",
          "2021-01-11T00:00:00+00:00",
          "2021-01-12T00:00:00+00:00",
          "2021-01-13T00:00:00+00:00",
          "2021-01-14T00:00:00+00:00",
          "2021-01-15T00:00:00+00:00",
          "2021-01-19T00:00:00+00:00",
          "2021-01-20T00:00:00+00:00",
          "2021-01-21T00:00:00+00:00",
          "2021-01-22T00:00:00+00:00",
          "2021-01-25T00:00:00+00:00",
          "2021-01-26T00:00:00+00:00",
          "2021-01-27T00:00:00+00:00",
          "2021-01-28T00:00:00+00:00",
          "2021-01-29T00:00:00+00:00",
          "2021-02-01T00:00:00+00:00",
          "2021-02-02T00:00:00+00:00",
          "2021-02-03T00:00:00+00:00",
          "2021-02-04T00:00:00+00:00",
          "2021-02-05T00:00:00+00:00",
          "2021-02-08T00:00:00+00:00",
          "2021-02-09T00:00:00+00:00",
          "2021-02-10T00:00:00+00:00",
          "2021-02-11T00:00:00+00:00",
          "2021-02-12T00:00:00+00:00",
          "2021-02-16T00:00:00+00:00",
          "2021-02-17T00:00:00+00:00",
          "2021-02-18T00:00:00+00:00",
          "2021-02-19T00:00:00+00:00",
          "2021-02-22T00:00:00+00:00",
          "2021-02-23T00:00:00+00:00",
          "2021-02-24T00:00:00+00:00",
          "2021-02-25T00:00:00+00:00",
          "2021-02-26T00:00:00+00:00",
          "2021-03-01T00:00:00+00:00",
          "2021-03-02T00:00:00+00:00",
          "2021-03-03T00:00:00+00:00",
          "2021-03-04T00:00:00+00:00",
          "2021-03-05T00:00:00+00:00",
          "2021-03-08T00:00:00+00:00",
          "2021-03-09T00:00:00+00:00",
          "2021-03-10T00:00:00+00:00",
          "2021-03-11T00:00:00+00:00",
          "2021-03-12T00:00:00+00:00",
          "2021-03-15T00:00:00+00:00",
          "2021-03-16T00:00:00+00:00",
          "2021-03-17T00:00:00+00:00",
          "2021-03-18T00:00:00+00:00",
          "2021-03-19T00:00:00+00:00",
          "2021-03-22T00:00:00+00:00",
          "2021-03-23T00:00:00+00:00",
          "2021-03-24T00:00:00+00:00",
          "2021-03-25T00:00:00+00:00",
          "2021-03-26T00:00:00+00:00",
          "2021-03-29T00:00:00+00:00",
          "2021-03-30T00:00:00+00:00",
          "2021-03-31T00:00:00+00:00",
          "2021-04-01T00:00:00+00:00",
          "2021-04-05T00:00:00+00:00",
          "2021-04-06T00:00:00+00:00",
          "2021-04-07T00:00:00+00:00",
          "2021-04-08T00:00:00+00:00",
          "2021-04-09T00:00:00+00:00",
          "2021-04-12T00:00:00+00:00",
          "2021-04-13T00:00:00+00:00",
          "2021-04-14T00:00:00+00:00",
          "2021-04-15T00:00:00+00:00",
          "2021-04-16T00:00:00+00:00",
          "2021-04-19T00:00:00+00:00",
          "2021-04-20T00:00:00+00:00",
          "2021-04-21T00:00:00+00:00",
          "2021-04-22T00:00:00+00:00",
          "2021-04-23T00:00:00+00:00",
          "2021-04-26T00:00:00+00:00",
          "2021-04-27T00:00:00+00:00",
          "2021-04-28T00:00:00+00:00",
          "2021-04-29T00:00:00+00:00",
          "2021-04-30T00:00:00+00:00",
          "2021-05-03T00:00:00+00:00",
          "2021-05-04T00:00:00+00:00",
          "2021-05-05T00:00:00+00:00",
          "2021-05-06T00:00:00+00:00",
          "2021-05-07T00:00:00+00:00",
          "2021-05-10T00:00:00+00:00",
          "2021-05-11T00:00:00+00:00",
          "2021-05-12T00:00:00+00:00",
          "2021-05-13T00:00:00+00:00",
          "2021-05-14T00:00:00+00:00",
          "2021-05-17T00:00:00+00:00",
          "2021-05-18T00:00:00+00:00",
          "2021-05-19T00:00:00+00:00",
          "2021-05-20T00:00:00+00:00",
          "2021-05-21T00:00:00+00:00",
          "2021-05-24T00:00:00+00:00",
          "2021-05-25T00:00:00+00:00",
          "2021-05-26T00:00:00+00:00",
          "2021-05-27T00:00:00+00:00",
          "2021-05-28T00:00:00+00:00",
          "2021-06-01T00:00:00+00:00",
          "2021-06-02T00:00:00+00:00",
          "2021-06-03T00:00:00+00:00",
          "2021-06-04T00:00:00+00:00",
          "2021-06-07T00:00:00+00:00",
          "2021-06-08T00:00:00+00:00",
          "2021-06-09T00:00:00+00:00",
          "2021-06-10T00:00:00+00:00",
          "2021-06-11T00:00:00+00:00",
          "2021-06-14T00:00:00+00:00",
          "2021-06-15T00:00:00+00:00",
          "2021-06-16T00:00:00+00:00",
          "2021-06-17T00:00:00+00:00",
          "2021-06-18T00:00:00+00:00",
          "2021-06-21T00:00:00+00:00",
          "2021-06-22T00:00:00+00:00",
          "2021-06-23T00:00:00+00:00",
          "2021-06-24T00:00:00+00:00",
          "2021-06-25T00:00:00+00:00",
          "2021-06-28T00:00:00+00:00",
          "2021-06-29T00:00:00+00:00",
          "2021-06-30T00:00:00+00:00",
          "2021-07-01T00:00:00+00:00",
          "2021-07-02T00:00:00+00:00",
          "2021-07-06T00:00:00+00:00",
          "2021-07-07T00:00:00+00:00",
          "2021-07-08T00:00:00+00:00",
          "2021-07-09T00:00:00+00:00",
          "2021-07-12T00:00:00+00:00",
          "2021-07-13T00:00:00+00:00",
          "2021-07-14T00:00:00+00:00",
          "2021-07-15T00:00:00+00:00",
          "2021-07-16T00:00:00+00:00",
          "2021-07-19T00:00:00+00:00",
          "2021-07-20T00:00:00+00:00",
          "2021-07-21T00:00:00+00:00",
          "2021-07-22T00:00:00+00:00",
          "2021-07-23T00:00:00+00:00",
          "2021-07-26T00:00:00+00:00",
          "2021-07-27T00:00:00+00:00",
          "2021-07-28T00:00:00+00:00",
          "2021-07-29T00:00:00+00:00",
          "2021-07-30T00:00:00+00:00",
          "2021-08-02T00:00:00+00:00",
          "2021-08-03T00:00:00+00:00",
          "2021-08-04T00:00:00+00:00",
          "2021-08-05T00:00:00+00:00",
          "2021-08-06T00:00:00+00:00",
          "2021-08-09T00:00:00+00:00",
          "2021-08-10T00:00:00+00:00",
          "2021-08-11T00:00:00+00:00",
          "2021-08-12T00:00:00+00:00",
          "2021-08-13T00:00:00+00:00",
          "2021-08-16T00:00:00+00:00",
          "2021-08-17T00:00:00+00:00",
          "2021-08-18T00:00:00+00:00",
          "2021-08-19T00:00:00+00:00",
          "2021-08-20T00:00:00+00:00",
          "2021-08-23T00:00:00+00:00",
          "2021-08-24T00:00:00+00:00",
          "2021-08-25T00:00:00+00:00",
          "2021-08-26T00:00:00+00:00",
          "2021-08-27T00:00:00+00:00",
          "2021-08-30T00:00:00+00:00",
          "2021-08-31T00:00:00+00:00",
          "2021-09-01T00:00:00+00:00",
          "2021-09-02T00:00:00+00:00",
          "2021-09-03T00:00:00+00:00",
          "2021-09-07T00:00:00+00:00",
          "2021-09-08T00:00:00+00:00",
          "2021-09-09T00:00:00+00:00",
          "2021-09-10T00:00:00+00:00",
          "2021-09-13T00:00:00+00:00",
          "2021-09-14T00:00:00+00:00",
          "2021-09-15T00:00:00+00:00",
          "2021-09-16T00:00:00+00:00",
          "2021-09-17T00:00:00+00:00",
          "2021-09-20T00:00:00+00:00",
          "2021-09-21T00:00:00+00:00",
          "2021-09-22T00:00:00+00:00",
          "2021-09-23T00:00:00+00:00",
          "2021-09-24T00:00:00+00:00",
          "2021-09-27T00:00:00+00:00",
          "2021-09-28T00:00:00+00:00",
          "2021-09-29T00:00:00+00:00",
          "2021-09-30T00:00:00+00:00",
          "2021-10-01T00:00:00+00:00",
          "2021-10-04T00:00:00+00:00",
          "2021-10-05T00:00:00+00:00",
          "2021-10-06T00:00:00+00:00",
          "2021-10-07T00:00:00+00:00",
          "2021-10-08T00:00:00+00:00",
          "2021-10-11T00:00:00+00:00",
          "2021-10-12T00:00:00+00:00",
          "2021-10-13T00:00:00+00:00",
          "2021-10-14T00:00:00+00:00",
          "2021-10-15T00:00:00+00:00",
          "2021-10-18T00:00:00+00:00",
          "2021-10-19T00:00:00+00:00",
          "2021-10-20T00:00:00+00:00",
          "2021-10-21T00:00:00+00:00",
          "2021-10-22T00:00:00+00:00",
          "2021-10-25T00:00:00+00:00",
          "2021-10-26T00:00:00+00:00",
          "2021-10-27T00:00:00+00:00",
          "2021-10-28T00:00:00+00:00",
          "2021-10-29T00:00:00+00:00",
          "2021-11-01T00:00:00+00:00",
          "2021-11-02T00:00:00+00:00",
          "2021-11-03T00:00:00+00:00",
          "2021-11-04T00:00:00+00:00",
          "2021-11-05T00:00:00+00:00",
          "2021-11-08T00:00:00+00:00",
          "2021-11-09T00:00:00+00:00",
          "2021-11-10T00:00:00+00:00",
          "2021-11-11T00:00:00+00:00",
          "2021-11-12T00:00:00+00:00",
          "2021-11-15T00:00:00+00:00",
          "2021-11-16T00:00:00+00:00",
          "2021-11-17T00:00:00+00:00",
          "2021-11-18T00:00:00+00:00",
          "2021-11-19T00:00:00+00:00",
          "2021-11-22T00:00:00+00:00",
          "2021-11-23T00:00:00+00:00",
          "2021-11-24T00:00:00+00:00",
          "2021-11-26T00:00:00+00:00",
          "2021-11-29T00:00:00+00:00",
          "2021-11-30T00:00:00+00:00",
          "2021-12-01T00:00:00+00:00",
          "2021-12-02T00:00:00+00:00",
          "2021-12-03T00:00:00+00:00",
          "2021-12-06T00:00:00+00:00",
          "2021-12-07T00:00:00+00:00",
          "2021-12-08T00:00:00+00:00",
          "2021-12-09T00:00:00+00:00",
          "2021-12-10T00:00:00+00:00",
          "2021-12-13T00:00:00+00:00",
          "2021-12-14T00:00:00+00:00",
          "2021-12-15T00:00:00+00:00",
          "2021-12-16T00:00:00+00:00",
          "2021-12-17T00:00:00+00:00",
          "2021-12-20T00:00:00+00:00",
          "2021-12-21T00:00:00+00:00",
          "2021-12-22T00:00:00+00:00",
          "2021-12-23T00:00:00+00:00",
          "2021-12-27T00:00:00+00:00",
          "2021-12-28T00:00:00+00:00",
          "2021-12-29T00:00:00+00:00",
          "2021-12-30T00:00:00+00:00",
          "2021-12-31T00:00:00+00:00",
          "2022-01-03T00:00:00+00:00",
          "2022-01-04T00:00:00+00:00",
          "2022-01-05T00:00:00+00:00",
          "2022-01-06T00:00:00+00:00",
          "2022-01-07T00:00:00+00:00",
          "2022-01-10T00:00:00+00:00",
          "2022-01-11T00:00:00+00:00",
          "2022-01-12T00:00:00+00:00",
          "2022-01-13T00:00:00+00:00",
          "2022-01-14T00:00:00+00:00",
          "2022-01-18T00:00:00+00:00",
          "2022-01-19T00:00:00+00:00",
          "2022-01-20T00:00:00+00:00",
          "2022-01-21T00:00:00+00:00",
          "2022-01-24T00:00:00+00:00",
          "2022-01-25T00:00:00+00:00",
          "2022-01-26T00:00:00+00:00",
          "2022-01-27T00:00:00+00:00",
          "2022-01-28T00:00:00+00:00",
          "2022-01-31T00:00:00+00:00",
          "2022-02-01T00:00:00+00:00",
          "2022-02-02T00:00:00+00:00",
          "2022-02-03T00:00:00+00:00",
          "2022-02-04T00:00:00+00:00",
          "2022-02-07T00:00:00+00:00",
          "2022-02-08T00:00:00+00:00",
          "2022-02-09T00:00:00+00:00",
          "2022-02-10T00:00:00+00:00",
          "2022-02-11T00:00:00+00:00",
          "2022-02-14T00:00:00+00:00",
          "2022-02-15T00:00:00+00:00",
          "2022-02-16T00:00:00+00:00",
          "2022-02-17T00:00:00+00:00",
          "2022-02-18T00:00:00+00:00",
          "2022-02-22T00:00:00+00:00",
          "2022-02-23T00:00:00+00:00",
          "2022-02-24T00:00:00+00:00",
          "2022-02-25T00:00:00+00:00",
          "2022-02-28T00:00:00+00:00",
          "2022-03-01T00:00:00+00:00",
          "2022-03-02T00:00:00+00:00",
          "2022-03-03T00:00:00+00:00",
          "2022-03-04T00:00:00+00:00",
          "2022-03-07T00:00:00+00:00",
          "2022-03-08T00:00:00+00:00",
          "2022-03-09T00:00:00+00:00",
          "2022-03-10T00:00:00+00:00",
          "2022-03-11T00:00:00+00:00",
          "2022-03-14T00:00:00+00:00",
          "2022-03-15T00:00:00+00:00",
          "2022-03-16T00:00:00+00:00",
          "2022-03-17T00:00:00+00:00",
          "2022-03-18T00:00:00+00:00",
          "2022-03-21T00:00:00+00:00",
          "2022-03-22T00:00:00+00:00",
          "2022-03-23T00:00:00+00:00",
          "2022-03-24T00:00:00+00:00",
          "2022-03-25T00:00:00+00:00",
          "2022-03-28T00:00:00+00:00",
          "2022-03-29T00:00:00+00:00",
          "2022-03-30T00:00:00+00:00",
          "2022-03-31T00:00:00+00:00",
          "2022-04-01T00:00:00+00:00",
          "2022-04-04T00:00:00+00:00",
          "2022-04-05T00:00:00+00:00",
          "2022-04-06T00:00:00+00:00",
          "2022-04-07T00:00:00+00:00",
          "2022-04-08T00:00:00+00:00",
          "2022-04-11T00:00:00+00:00",
          "2022-04-12T00:00:00+00:00",
          "2022-04-13T00:00:00+00:00",
          "2022-04-14T00:00:00+00:00",
          "2022-04-18T00:00:00+00:00",
          "2022-04-19T00:00:00+00:00",
          "2022-04-20T00:00:00+00:00",
          "2022-04-21T00:00:00+00:00",
          "2022-04-22T00:00:00+00:00",
          "2022-04-25T00:00:00+00:00",
          "2022-04-26T00:00:00+00:00",
          "2022-04-27T00:00:00+00:00",
          "2022-04-28T00:00:00+00:00",
          "2022-04-29T00:00:00+00:00",
          "2022-05-02T00:00:00+00:00",
          "2022-05-03T00:00:00+00:00",
          "2022-05-04T00:00:00+00:00",
          "2022-05-05T00:00:00+00:00",
          "2022-05-06T00:00:00+00:00",
          "2022-05-09T00:00:00+00:00",
          "2022-05-10T00:00:00+00:00",
          "2022-05-11T00:00:00+00:00",
          "2022-05-12T00:00:00+00:00",
          "2022-05-13T00:00:00+00:00",
          "2022-05-16T00:00:00+00:00",
          "2022-05-17T00:00:00+00:00",
          "2022-05-18T00:00:00+00:00",
          "2022-05-19T00:00:00+00:00",
          "2022-05-20T00:00:00+00:00",
          "2022-05-23T00:00:00+00:00",
          "2022-05-24T00:00:00+00:00",
          "2022-05-25T00:00:00+00:00",
          "2022-05-26T00:00:00+00:00",
          "2022-05-27T00:00:00+00:00",
          "2022-05-31T00:00:00+00:00",
          "2022-06-01T00:00:00+00:00",
          "2022-06-02T00:00:00+00:00",
          "2022-06-03T00:00:00+00:00",
          "2022-06-06T00:00:00+00:00",
          "2022-06-07T00:00:00+00:00",
          "2022-06-08T00:00:00+00:00",
          "2022-06-09T00:00:00+00:00",
          "2022-06-10T00:00:00+00:00",
          "2022-06-13T00:00:00+00:00",
          "2022-06-14T00:00:00+00:00",
          "2022-06-15T00:00:00+00:00",
          "2022-06-16T00:00:00+00:00",
          "2022-06-17T00:00:00+00:00",
          "2022-06-21T00:00:00+00:00",
          "2022-06-22T00:00:00+00:00",
          "2022-06-23T00:00:00+00:00",
          "2022-06-24T00:00:00+00:00",
          "2022-06-27T00:00:00+00:00",
          "2022-06-28T00:00:00+00:00",
          "2022-06-29T00:00:00+00:00",
          "2022-06-30T00:00:00+00:00",
          "2022-07-01T00:00:00+00:00",
          "2022-07-05T00:00:00+00:00",
          "2022-07-06T00:00:00+00:00",
          "2022-07-07T00:00:00+00:00",
          "2022-07-08T00:00:00+00:00",
          "2022-07-11T00:00:00+00:00",
          "2022-07-12T00:00:00+00:00",
          "2022-07-13T00:00:00+00:00",
          "2022-07-14T00:00:00+00:00",
          "2022-07-15T00:00:00+00:00",
          "2022-07-18T00:00:00+00:00",
          "2022-07-19T00:00:00+00:00",
          "2022-07-20T00:00:00+00:00",
          "2022-07-21T00:00:00+00:00",
          "2022-07-22T00:00:00+00:00",
          "2022-07-25T00:00:00+00:00",
          "2022-07-26T00:00:00+00:00",
          "2022-07-27T00:00:00+00:00",
          "2022-07-28T00:00:00+00:00",
          "2022-07-29T00:00:00+00:00",
          "2022-08-01T00:00:00+00:00",
          "2022-08-02T00:00:00+00:00",
          "2022-08-03T00:00:00+00:00",
          "2022-08-04T00:00:00+00:00",
          "2022-08-05T00:00:00+00:00",
          "2022-08-08T00:00:00+00:00",
          "2022-08-09T00:00:00+00:00",
          "2022-08-10T00:00:00+00:00",
          "2022-08-11T00:00:00+00:00",
          "2022-08-12T00:00:00+00:00",
          "2022-08-15T00:00:00+00:00",
          "2022-08-16T00:00:00+00:00",
          "2022-08-17T00:00:00+00:00",
          "2022-08-18T00:00:00+00:00",
          "2022-08-19T00:00:00+00:00",
          "2022-08-22T00:00:00+00:00",
          "2022-08-23T00:00:00+00:00",
          "2022-08-24T00:00:00+00:00",
          "2022-08-25T00:00:00+00:00",
          "2022-08-26T00:00:00+00:00",
          "2022-08-29T00:00:00+00:00",
          "2022-08-30T00:00:00+00:00",
          "2022-08-31T00:00:00+00:00",
          "2022-09-01T00:00:00+00:00",
          "2022-09-02T00:00:00+00:00",
          "2022-09-06T00:00:00+00:00",
          "2022-09-07T00:00:00+00:00",
          "2022-09-08T00:00:00+00:00",
          "2022-09-09T00:00:00+00:00",
          "2022-09-12T00:00:00+00:00",
          "2022-09-13T00:00:00+00:00",
          "2022-09-14T00:00:00+00:00",
          "2022-09-15T00:00:00+00:00",
          "2022-09-16T00:00:00+00:00",
          "2022-09-19T00:00:00+00:00",
          "2022-09-20T00:00:00+00:00",
          "2022-09-21T00:00:00+00:00",
          "2022-09-22T00:00:00+00:00",
          "2022-09-23T00:00:00+00:00",
          "2022-09-26T00:00:00+00:00",
          "2022-09-27T00:00:00+00:00",
          "2022-09-28T00:00:00+00:00",
          "2022-09-29T00:00:00+00:00",
          "2022-09-30T00:00:00+00:00",
          "2022-10-03T00:00:00+00:00",
          "2022-10-04T00:00:00+00:00",
          "2022-10-05T00:00:00+00:00",
          "2022-10-06T00:00:00+00:00",
          "2022-10-07T00:00:00+00:00",
          "2022-10-10T00:00:00+00:00",
          "2022-10-11T00:00:00+00:00",
          "2022-10-12T00:00:00+00:00",
          "2022-10-13T00:00:00+00:00",
          "2022-10-14T00:00:00+00:00",
          "2022-10-17T00:00:00+00:00",
          "2022-10-18T00:00:00+00:00",
          "2022-10-19T00:00:00+00:00",
          "2022-10-20T00:00:00+00:00",
          "2022-10-21T00:00:00+00:00",
          "2022-10-24T00:00:00+00:00",
          "2022-10-25T00:00:00+00:00",
          "2022-10-26T00:00:00+00:00",
          "2022-10-27T00:00:00+00:00",
          "2022-10-28T00:00:00+00:00",
          "2022-10-31T00:00:00+00:00",
          "2022-11-01T00:00:00+00:00",
          "2022-11-02T00:00:00+00:00",
          "2022-11-03T00:00:00+00:00",
          "2022-11-04T00:00:00+00:00",
          "2022-11-07T00:00:00+00:00",
          "2022-11-08T00:00:00+00:00",
          "2022-11-09T00:00:00+00:00",
          "2022-11-10T00:00:00+00:00",
          "2022-11-11T00:00:00+00:00",
          "2022-11-14T00:00:00+00:00",
          "2022-11-15T00:00:00+00:00",
          "2022-11-16T00:00:00+00:00",
          "2022-11-17T00:00:00+00:00",
          "2022-11-18T00:00:00+00:00",
          "2022-11-21T00:00:00+00:00",
          "2022-11-22T00:00:00+00:00",
          "2022-11-23T00:00:00+00:00",
          "2022-11-25T00:00:00+00:00",
          "2022-11-28T00:00:00+00:00",
          "2022-11-29T00:00:00+00:00",
          "2022-11-30T00:00:00+00:00",
          "2022-12-01T00:00:00+00:00",
          "2022-12-02T00:00:00+00:00",
          "2022-12-05T00:00:00+00:00",
          "2022-12-06T00:00:00+00:00",
          "2022-12-07T00:00:00+00:00",
          "2022-12-08T00:00:00+00:00",
          "2022-12-09T00:00:00+00:00",
          "2022-12-12T00:00:00+00:00",
          "2022-12-13T00:00:00+00:00",
          "2022-12-14T00:00:00+00:00",
          "2022-12-15T00:00:00+00:00",
          "2022-12-16T00:00:00+00:00",
          "2022-12-19T00:00:00+00:00",
          "2022-12-20T00:00:00+00:00",
          "2022-12-21T00:00:00+00:00",
          "2022-12-22T00:00:00+00:00",
          "2022-12-23T00:00:00+00:00",
          "2022-12-27T00:00:00+00:00",
          "2022-12-28T00:00:00+00:00",
          "2022-12-29T00:00:00+00:00",
          "2022-12-30T00:00:00+00:00",
          "2023-01-03T00:00:00+00:00",
          "2023-01-04T00:00:00+00:00",
          "2023-01-05T00:00:00+00:00",
          "2023-01-06T00:00:00+00:00",
          "2023-01-09T00:00:00+00:00",
          "2023-01-10T00:00:00+00:00",
          "2023-01-11T00:00:00+00:00",
          "2023-01-12T00:00:00+00:00",
          "2023-01-13T00:00:00+00:00",
          "2023-01-17T00:00:00+00:00",
          "2023-01-18T00:00:00+00:00",
          "2023-01-19T00:00:00+00:00",
          "2023-01-20T00:00:00+00:00",
          "2023-01-23T00:00:00+00:00",
          "2023-01-24T00:00:00+00:00",
          "2023-01-25T00:00:00+00:00",
          "2023-01-26T00:00:00+00:00",
          "2023-01-27T00:00:00+00:00",
          "2023-01-30T00:00:00+00:00",
          "2023-01-31T00:00:00+00:00",
          "2023-02-01T00:00:00+00:00",
          "2023-02-02T00:00:00+00:00",
          "2023-02-03T00:00:00+00:00",
          "2023-02-06T00:00:00+00:00",
          "2023-02-07T00:00:00+00:00",
          "2023-02-08T00:00:00+00:00",
          "2023-02-09T00:00:00+00:00",
          "2023-02-10T00:00:00+00:00",
          "2023-02-13T00:00:00+00:00",
          "2023-02-14T00:00:00+00:00",
          "2023-02-15T00:00:00+00:00",
          "2023-02-16T00:00:00+00:00",
          "2023-02-17T00:00:00+00:00",
          "2023-02-21T00:00:00+00:00",
          "2023-02-22T00:00:00+00:00",
          "2023-02-23T00:00:00+00:00",
          "2023-02-24T00:00:00+00:00",
          "2023-02-27T00:00:00+00:00",
          "2023-02-28T00:00:00+00:00",
          "2023-03-01T00:00:00+00:00",
          "2023-03-02T00:00:00+00:00",
          "2023-03-03T00:00:00+00:00",
          "2023-03-06T00:00:00+00:00",
          "2023-03-07T00:00:00+00:00",
          "2023-03-08T00:00:00+00:00",
          "2023-03-09T00:00:00+00:00",
          "2023-03-10T00:00:00+00:00",
          "2023-03-13T00:00:00+00:00",
          "2023-03-14T00:00:00+00:00",
          "2023-03-15T00:00:00+00:00",
          "2023-03-16T00:00:00+00:00",
          "2023-03-17T00:00:00+00:00",
          "2023-03-20T00:00:00+00:00",
          "2023-03-21T00:00:00+00:00",
          "2023-03-22T00:00:00+00:00",
          "2023-03-23T00:00:00+00:00",
          "2023-03-24T00:00:00+00:00",
          "2023-03-27T00:00:00+00:00",
          "2023-03-28T00:00:00+00:00",
          "2023-03-29T00:00:00+00:00",
          "2023-03-30T00:00:00+00:00",
          "2023-03-31T00:00:00+00:00",
          "2023-04-03T00:00:00+00:00",
          "2023-04-04T00:00:00+00:00",
          "2023-04-05T00:00:00+00:00",
          "2023-04-06T00:00:00+00:00",
          "2023-04-10T00:00:00+00:00",
          "2023-04-11T00:00:00+00:00",
          "2023-04-12T00:00:00+00:00",
          "2023-04-13T00:00:00+00:00",
          "2023-04-14T00:00:00+00:00",
          "2023-04-17T00:00:00+00:00",
          "2023-04-18T00:00:00+00:00",
          "2023-04-19T00:00:00+00:00",
          "2023-04-20T00:00:00+00:00",
          "2023-04-21T00:00:00+00:00",
          "2023-04-24T00:00:00+00:00",
          "2023-04-25T00:00:00+00:00",
          "2023-04-26T00:00:00+00:00",
          "2023-04-27T00:00:00+00:00",
          "2023-04-28T00:00:00+00:00",
          "2023-05-01T00:00:00+00:00",
          "2023-05-02T00:00:00+00:00",
          "2023-05-03T00:00:00+00:00",
          "2023-05-04T00:00:00+00:00",
          "2023-05-05T00:00:00+00:00",
          "2023-05-08T00:00:00+00:00",
          "2023-05-09T00:00:00+00:00",
          "2023-05-10T00:00:00+00:00",
          "2023-05-11T00:00:00+00:00",
          "2023-05-12T00:00:00+00:00",
          "2023-05-15T00:00:00+00:00",
          "2023-05-16T00:00:00+00:00",
          "2023-05-17T00:00:00+00:00",
          "2023-05-18T00:00:00+00:00",
          "2023-05-19T00:00:00+00:00",
          "2023-05-22T00:00:00+00:00",
          "2023-05-23T00:00:00+00:00",
          "2023-05-24T00:00:00+00:00",
          "2023-05-25T00:00:00+00:00",
          "2023-05-26T00:00:00+00:00",
          "2023-05-30T00:00:00+00:00",
          "2023-05-31T00:00:00+00:00",
          "2023-06-01T00:00:00+00:00",
          "2023-06-02T00:00:00+00:00",
          "2023-06-05T00:00:00+00:00",
          "2023-06-06T00:00:00+00:00",
          "2023-06-07T00:00:00+00:00",
          "2023-06-08T00:00:00+00:00",
          "2023-06-09T00:00:00+00:00",
          "2023-06-12T00:00:00+00:00",
          "2023-06-13T00:00:00+00:00",
          "2023-06-14T00:00:00+00:00",
          "2023-06-15T00:00:00+00:00",
          "2023-06-16T00:00:00+00:00",
          "2023-06-20T00:00:00+00:00",
          "2023-06-21T00:00:00+00:00",
          "2023-06-22T00:00:00+00:00",
          "2023-06-23T00:00:00+00:00",
          "2023-06-26T00:00:00+00:00",
          "2023-06-27T00:00:00+00:00",
          "2023-06-28T00:00:00+00:00",
          "2023-06-29T00:00:00+00:00",
          "2023-06-30T00:00:00+00:00",
          "2023-07-03T00:00:00+00:00",
          "2023-07-05T00:00:00+00:00",
          "2023-07-06T00:00:00+00:00",
          "2023-07-07T00:00:00+00:00",
          "2023-07-10T00:00:00+00:00",
          "2023-07-11T00:00:00+00:00",
          "2023-07-12T00:00:00+00:00",
          "2023-07-13T00:00:00+00:00",
          "2023-07-14T00:00:00+00:00",
          "2023-07-17T00:00:00+00:00",
          "2023-07-18T00:00:00+00:00",
          "2023-07-19T00:00:00+00:00",
          "2023-07-20T00:00:00+00:00",
          "2023-07-21T00:00:00+00:00",
          "2023-07-24T00:00:00+00:00",
          "2023-07-25T00:00:00+00:00",
          "2023-07-26T00:00:00+00:00",
          "2023-07-27T00:00:00+00:00",
          "2023-07-28T00:00:00+00:00",
          "2023-07-31T00:00:00+00:00",
          "2023-08-01T00:00:00+00:00",
          "2023-08-02T00:00:00+00:00",
          "2023-08-03T00:00:00+00:00",
          "2023-08-04T00:00:00+00:00",
          "2023-08-07T00:00:00+00:00",
          "2023-08-08T00:00:00+00:00",
          "2023-08-09T00:00:00+00:00",
          "2023-08-10T00:00:00+00:00",
          "2023-08-11T00:00:00+00:00",
          "2023-08-14T00:00:00+00:00",
          "2023-08-15T00:00:00+00:00",
          "2023-08-16T00:00:00+00:00",
          "2023-08-17T00:00:00+00:00",
          "2023-08-18T00:00:00+00:00",
          "2023-08-21T00:00:00+00:00",
          "2023-08-22T00:00:00+00:00",
          "2023-08-23T00:00:00+00:00",
          "2023-08-24T00:00:00+00:00",
          "2023-08-25T00:00:00+00:00",
          "2023-08-28T00:00:00+00:00",
          "2023-08-29T00:00:00+00:00",
          "2023-08-30T00:00:00+00:00",
          "2023-08-31T00:00:00+00:00",
          "2023-09-01T00:00:00+00:00",
          "2023-09-05T00:00:00+00:00",
          "2023-09-06T00:00:00+00:00",
          "2023-09-07T00:00:00+00:00",
          "2023-09-08T00:00:00+00:00",
          "2023-09-11T00:00:00+00:00",
          "2023-09-12T00:00:00+00:00",
          "2023-09-13T00:00:00+00:00",
          "2023-09-14T00:00:00+00:00",
          "2023-09-15T00:00:00+00:00",
          "2023-09-18T00:00:00+00:00",
          "2023-09-19T00:00:00+00:00",
          "2023-09-20T00:00:00+00:00",
          "2023-09-21T00:00:00+00:00",
          "2023-09-22T00:00:00+00:00",
          "2023-09-25T00:00:00+00:00",
          "2023-09-26T00:00:00+00:00",
          "2023-09-27T00:00:00+00:00",
          "2023-09-28T00:00:00+00:00",
          "2023-09-29T00:00:00+00:00",
          "2023-10-02T00:00:00+00:00",
          "2023-10-03T00:00:00+00:00",
          "2023-10-04T00:00:00+00:00",
          "2023-10-05T00:00:00+00:00",
          "2023-10-06T00:00:00+00:00",
          "2023-10-09T00:00:00+00:00",
          "2023-10-10T00:00:00+00:00",
          "2023-10-11T00:00:00+00:00",
          "2023-10-12T00:00:00+00:00",
          "2023-10-13T00:00:00+00:00",
          "2023-10-16T00:00:00+00:00",
          "2023-10-17T00:00:00+00:00",
          "2023-10-18T00:00:00+00:00",
          "2023-10-19T00:00:00+00:00",
          "2023-10-20T00:00:00+00:00",
          "2023-10-23T00:00:00+00:00",
          "2023-10-24T00:00:00+00:00",
          "2023-10-25T00:00:00+00:00",
          "2023-10-26T00:00:00+00:00",
          "2023-10-27T00:00:00+00:00",
          "2023-10-30T00:00:00+00:00",
          "2023-10-31T00:00:00+00:00",
          "2023-11-01T00:00:00+00:00",
          "2023-11-02T00:00:00+00:00",
          "2023-11-03T00:00:00+00:00",
          "2023-11-06T00:00:00+00:00",
          "2023-11-07T00:00:00+00:00",
          "2023-11-08T00:00:00+00:00",
          "2023-11-09T00:00:00+00:00",
          "2023-11-10T00:00:00+00:00",
          "2023-11-13T00:00:00+00:00",
          "2023-11-14T00:00:00+00:00",
          "2023-11-15T00:00:00+00:00",
          "2023-11-16T00:00:00+00:00",
          "2023-11-17T00:00:00+00:00",
          "2023-11-20T00:00:00+00:00",
          "2023-11-21T00:00:00+00:00",
          "2023-11-22T00:00:00+00:00",
          "2023-11-24T00:00:00+00:00",
          "2023-11-27T00:00:00+00:00",
          "2023-11-28T00:00:00+00:00",
          "2023-11-29T00:00:00+00:00",
          "2023-11-30T00:00:00+00:00",
          "2023-12-01T00:00:00+00:00",
          "2023-12-04T00:00:00+00:00",
          "2023-12-05T00:00:00+00:00",
          "2023-12-06T00:00:00+00:00",
          "2023-12-07T00:00:00+00:00",
          "2023-12-08T00:00:00+00:00",
          "2023-12-11T00:00:00+00:00",
          "2023-12-12T00:00:00+00:00",
          "2023-12-13T00:00:00+00:00",
          "2023-12-14T00:00:00+00:00",
          "2023-12-15T00:00:00+00:00",
          "2023-12-18T00:00:00+00:00",
          "2023-12-19T00:00:00+00:00",
          "2023-12-20T00:00:00+00:00",
          "2023-12-21T00:00:00+00:00",
          "2023-12-22T00:00:00+00:00",
          "2023-12-26T00:00:00+00:00",
          "2023-12-27T00:00:00+00:00",
          "2023-12-28T00:00:00+00:00",
          "2023-12-29T00:00:00+00:00",
          "2024-01-02T00:00:00+00:00",
          "2024-01-03T00:00:00+00:00",
          "2024-01-04T00:00:00+00:00",
          "2024-01-05T00:00:00+00:00",
          "2024-01-08T00:00:00+00:00",
          "2024-01-09T00:00:00+00:00",
          "2024-01-10T00:00:00+00:00",
          "2024-01-11T00:00:00+00:00",
          "2024-01-12T00:00:00+00:00",
          "2024-01-16T00:00:00+00:00",
          "2024-01-17T00:00:00+00:00",
          "2024-01-18T00:00:00+00:00",
          "2024-01-19T00:00:00+00:00",
          "2024-01-22T00:00:00+00:00",
          "2024-01-23T00:00:00+00:00",
          "2024-01-24T00:00:00+00:00",
          "2024-01-25T00:00:00+00:00",
          "2024-01-26T00:00:00+00:00",
          "2024-01-29T00:00:00+00:00",
          "2024-01-30T00:00:00+00:00",
          "2024-01-31T00:00:00+00:00",
          "2024-02-01T00:00:00+00:00",
          "2024-02-02T00:00:00+00:00",
          "2024-02-05T00:00:00+00:00",
          "2024-02-06T00:00:00+00:00",
          "2024-02-07T00:00:00+00:00",
          "2024-02-08T00:00:00+00:00",
          "2024-02-09T00:00:00+00:00",
          "2024-02-12T00:00:00+00:00",
          "2024-02-13T00:00:00+00:00",
          "2024-02-14T00:00:00+00:00",
          "2024-02-15T00:00:00+00:00",
          "2024-02-16T00:00:00+00:00",
          "2024-02-20T00:00:00+00:00",
          "2024-02-21T00:00:00+00:00",
          "2024-02-22T00:00:00+00:00",
          "2024-02-23T00:00:00+00:00",
          "2024-02-26T00:00:00+00:00",
          "2024-02-27T00:00:00+00:00",
          "2024-02-28T00:00:00+00:00",
          "2024-02-29T00:00:00+00:00",
          "2024-03-01T00:00:00+00:00",
          "2024-03-04T00:00:00+00:00",
          "2024-03-05T00:00:00+00:00",
          "2024-03-06T00:00:00+00:00",
          "2024-03-07T00:00:00+00:00",
          "2024-03-08T00:00:00+00:00",
          "2024-03-11T00:00:00+00:00",
          "2024-03-12T00:00:00+00:00",
          "2024-03-13T00:00:00+00:00",
          "2024-03-14T00:00:00+00:00",
          "2024-03-15T00:00:00+00:00",
          "2024-03-18T00:00:00+00:00",
          "2024-03-19T00:00:00+00:00",
          "2024-03-20T00:00:00+00:00",
          "2024-03-21T00:00:00+00:00",
          "2024-03-22T00:00:00+00:00",
          "2024-03-25T00:00:00+00:00",
          "2024-03-26T00:00:00+00:00",
          "2024-03-27T00:00:00+00:00",
          "2024-03-28T00:00:00+00:00",
          "2024-04-01T00:00:00+00:00",
          "2024-04-02T00:00:00+00:00",
          "2024-04-03T00:00:00+00:00",
          "2024-04-04T00:00:00+00:00",
          "2024-04-05T00:00:00+00:00",
          "2024-04-08T00:00:00+00:00",
          "2024-04-09T00:00:00+00:00",
          "2024-04-10T00:00:00+00:00",
          "2024-04-11T00:00:00+00:00",
          "2024-04-12T00:00:00+00:00",
          "2024-04-15T00:00:00+00:00",
          "2024-04-16T00:00:00+00:00",
          "2024-04-17T00:00:00+00:00",
          "2024-04-18T00:00:00+00:00",
          "2024-04-19T00:00:00+00:00",
          "2024-04-22T00:00:00+00:00",
          "2024-04-23T00:00:00+00:00",
          "2024-04-24T00:00:00+00:00",
          "2024-04-25T00:00:00+00:00",
          "2024-04-26T00:00:00+00:00",
          "2024-04-29T00:00:00+00:00",
          "2024-04-30T00:00:00+00:00",
          "2024-05-01T00:00:00+00:00",
          "2024-05-02T00:00:00+00:00",
          "2024-05-03T00:00:00+00:00",
          "2024-05-06T00:00:00+00:00",
          "2024-05-07T00:00:00+00:00",
          "2024-05-08T00:00:00+00:00",
          "2024-05-09T00:00:00+00:00",
          "2024-05-10T00:00:00+00:00",
          "2024-05-13T00:00:00+00:00",
          "2024-05-14T00:00:00+00:00",
          "2024-05-15T00:00:00+00:00",
          "2024-05-16T00:00:00+00:00",
          "2024-05-17T00:00:00+00:00",
          "2024-05-20T00:00:00+00:00",
          "2024-05-21T00:00:00+00:00",
          "2024-05-22T00:00:00+00:00",
          "2024-05-23T00:00:00+00:00",
          "2024-05-24T00:00:00+00:00",
          "2024-05-28T00:00:00+00:00",
          "2024-05-29T00:00:00+00:00",
          "2024-05-30T00:00:00+00:00",
          "2024-05-31T00:00:00+00:00",
          "2024-06-03T00:00:00+00:00",
          "2024-06-04T00:00:00+00:00",
          "2024-06-05T00:00:00+00:00",
          "2024-06-06T00:00:00+00:00",
          "2024-06-07T00:00:00+00:00",
          "2024-06-10T00:00:00+00:00",
          "2024-06-11T00:00:00+00:00",
          "2024-06-12T00:00:00+00:00",
          "2024-06-13T00:00:00+00:00",
          "2024-06-14T00:00:00+00:00",
          "2024-06-17T00:00:00+00:00",
          "2024-06-18T00:00:00+00:00",
          "2024-06-20T00:00:00+00:00",
          "2024-06-21T00:00:00+00:00",
          "2024-06-24T00:00:00+00:00",
          "2024-06-25T00:00:00+00:00",
          "2024-06-26T00:00:00+00:00",
          "2024-06-27T00:00:00+00:00",
          "2024-06-28T00:00:00+00:00",
          "2024-07-01T00:00:00+00:00",
          "2024-07-02T00:00:00+00:00",
          "2024-07-03T00:00:00+00:00",
          "2024-07-05T00:00:00+00:00",
          "2024-07-08T00:00:00+00:00",
          "2024-07-09T00:00:00+00:00",
          "2024-07-10T00:00:00+00:00",
          "2024-07-11T00:00:00+00:00",
          "2024-07-12T00:00:00+00:00",
          "2024-07-15T00:00:00+00:00",
          "2024-07-16T00:00:00+00:00",
          "2024-07-17T00:00:00+00:00",
          "2024-07-18T00:00:00+00:00",
          "2024-07-19T00:00:00+00:00",
          "2024-07-22T00:00:00+00:00",
          "2024-07-23T00:00:00+00:00",
          "2024-07-24T00:00:00+00:00",
          "2024-07-25T00:00:00+00:00",
          "2024-07-26T00:00:00+00:00",
          "2024-07-29T00:00:00+00:00",
          "2024-07-30T00:00:00+00:00",
          "2024-07-31T00:00:00+00:00",
          "2024-08-01T00:00:00+00:00",
          "2024-08-02T00:00:00+00:00",
          "2024-08-05T00:00:00+00:00",
          "2024-08-06T00:00:00+00:00",
          "2024-08-07T00:00:00+00:00",
          "2024-08-08T00:00:00+00:00",
          "2024-08-09T00:00:00+00:00",
          "2024-08-12T00:00:00+00:00",
          "2024-08-13T00:00:00+00:00",
          "2024-08-14T00:00:00+00:00",
          "2024-08-15T00:00:00+00:00",
          "2024-08-16T00:00:00+00:00",
          "2024-08-19T00:00:00+00:00",
          "2024-08-20T00:00:00+00:00",
          "2024-08-21T00:00:00+00:00",
          "2024-08-22T00:00:00+00:00",
          "2024-08-23T00:00:00+00:00",
          "2024-08-26T00:00:00+00:00",
          "2024-08-27T00:00:00+00:00",
          "2024-08-28T00:00:00+00:00",
          "2024-08-29T00:00:00+00:00",
          "2024-08-30T00:00:00+00:00",
          "2024-09-03T00:00:00+00:00",
          "2024-09-04T00:00:00+00:00",
          "2024-09-05T00:00:00+00:00",
          "2024-09-06T00:00:00+00:00",
          "2024-09-09T00:00:00+00:00",
          "2024-09-10T00:00:00+00:00",
          "2024-09-11T00:00:00+00:00",
          "2024-09-12T00:00:00+00:00",
          "2024-09-13T00:00:00+00:00",
          "2024-09-16T00:00:00+00:00",
          "2024-09-17T00:00:00+00:00",
          "2024-09-18T00:00:00+00:00",
          "2024-09-19T00:00:00+00:00",
          "2024-09-20T00:00:00+00:00",
          "2024-09-23T00:00:00+00:00",
          "2024-09-24T00:00:00+00:00",
          "2024-09-25T00:00:00+00:00",
          "2024-09-26T00:00:00+00:00",
          "2024-09-27T00:00:00+00:00",
          "2024-09-30T00:00:00+00:00",
          "2024-10-01T00:00:00+00:00",
          "2024-10-02T00:00:00+00:00",
          "2024-10-03T00:00:00+00:00",
          "2024-10-04T00:00:00+00:00",
          "2024-10-07T00:00:00+00:00",
          "2024-10-08T00:00:00+00:00",
          "2024-10-09T00:00:00+00:00",
          "2024-10-10T00:00:00+00:00",
          "2024-10-11T00:00:00+00:00",
          "2024-10-14T00:00:00+00:00",
          "2024-10-15T00:00:00+00:00",
          "2024-10-16T00:00:00+00:00",
          "2024-10-17T00:00:00+00:00",
          "2024-10-18T00:00:00+00:00",
          "2024-10-21T00:00:00+00:00",
          "2024-10-22T00:00:00+00:00",
          "2024-10-23T00:00:00+00:00",
          "2024-10-24T00:00:00+00:00",
          "2024-10-25T00:00:00+00:00",
          "2024-10-28T00:00:00+00:00",
          "2024-10-29T00:00:00+00:00",
          "2024-10-30T00:00:00+00:00",
          "2024-10-31T00:00:00+00:00",
          "2024-11-01T00:00:00+00:00",
          "2024-11-04T00:00:00+00:00",
          "2024-11-05T00:00:00+00:00",
          "2024-11-06T00:00:00+00:00",
          "2024-11-07T00:00:00+00:00",
          "2024-11-08T00:00:00+00:00",
          "2024-11-11T00:00:00+00:00",
          "2024-11-12T00:00:00+00:00",
          "2024-11-13T00:00:00+00:00",
          "2024-11-14T00:00:00+00:00",
          "2024-11-15T00:00:00+00:00",
          "2024-11-18T00:00:00+00:00",
          "2024-11-19T00:00:00+00:00",
          "2024-11-20T00:00:00+00:00",
          "2024-11-21T00:00:00+00:00",
          "2024-11-22T00:00:00+00:00",
          "2024-11-25T00:00:00+00:00",
          "2024-11-26T00:00:00+00:00",
          "2024-11-27T00:00:00+00:00",
          "2024-11-29T00:00:00+00:00",
          "2024-12-02T00:00:00+00:00",
          "2024-12-03T00:00:00+00:00",
          "2024-12-04T00:00:00+00:00",
          "2024-12-05T00:00:00+00:00",
          "2024-12-06T00:00:00+00:00",
          "2024-12-09T00:00:00+00:00",
          "2024-12-10T00:00:00+00:00",
          "2024-12-11T00:00:00+00:00",
          "2024-12-12T00:00:00+00:00",
          "2024-12-13T00:00:00+00:00",
          "2024-12-16T00:00:00+00:00",
          "2024-12-17T00:00:00+00:00",
          "2024-12-18T00:00:00+00:00",
          "2024-12-19T00:00:00+00:00",
          "2024-12-20T00:00:00+00:00",
          "2024-12-23T00:00:00+00:00",
          "2024-12-24T00:00:00+00:00",
          "2024-12-26T00:00:00+00:00",
          "2024-12-27T00:00:00+00:00",
          "2024-12-30T00:00:00+00:00",
          "2024-12-31T00:00:00+00:00"
         ]
        }
       ],
       "layout": {
        "template": {
         "data": {
          "bar": [
           {
            "error_x": {
             "color": "#2a3f5f"
            },
            "error_y": {
             "color": "#2a3f5f"
            },
            "marker": {
             "line": {
              "color": "#E5ECF6",
              "width": 0.5
             },
             "pattern": {
              "fillmode": "overlay",
              "size": 10,
              "solidity": 0.2
             }
            },
            "type": "bar"
           }
          ],
          "barpolar": [
           {
            "marker": {
             "line": {
              "color": "#E5ECF6",
              "width": 0.5
             },
             "pattern": {
              "fillmode": "overlay",
              "size": 10,
              "solidity": 0.2
             }
            },
            "type": "barpolar"
           }
          ],
          "carpet": [
           {
            "aaxis": {
             "endlinecolor": "#2a3f5f",
             "gridcolor": "white",
             "linecolor": "white",
             "minorgridcolor": "white",
             "startlinecolor": "#2a3f5f"
            },
            "baxis": {
             "endlinecolor": "#2a3f5f",
             "gridcolor": "white",
             "linecolor": "white",
             "minorgridcolor": "white",
             "startlinecolor": "#2a3f5f"
            },
            "type": "carpet"
           }
          ],
          "choropleth": [
           {
            "colorbar": {
             "outlinewidth": 0,
             "ticks": ""
            },
            "type": "choropleth"
           }
          ],
          "contour": [
           {
            "colorbar": {
             "outlinewidth": 0,
             "ticks": ""
            },
            "colorscale": [
             [
              0,
              "#0d0887"
             ],
             [
              0.1111111111111111,
              "#46039f"
             ],
             [
              0.2222222222222222,
              "#7201a8"
             ],
             [
              0.3333333333333333,
              "#9c179e"
             ],
             [
              0.4444444444444444,
              "#bd3786"
             ],
             [
              0.5555555555555556,
              "#d8576b"
             ],
             [
              0.6666666666666666,
              "#ed7953"
             ],
             [
              0.7777777777777778,
              "#fb9f3a"
             ],
             [
              0.8888888888888888,
              "#fdca26"
             ],
             [
              1,
              "#f0f921"
             ]
            ],
            "type": "contour"
           }
          ],
          "contourcarpet": [
           {
            "colorbar": {
             "outlinewidth": 0,
             "ticks": ""
            },
            "type": "contourcarpet"
           }
          ],
          "heatmap": [
           {
            "colorbar": {
             "outlinewidth": 0,
             "ticks": ""
            },
            "colorscale": [
             [
              0,
              "#0d0887"
             ],
             [
              0.1111111111111111,
              "#46039f"
             ],
             [
              0.2222222222222222,
              "#7201a8"
             ],
             [
              0.3333333333333333,
              "#9c179e"
             ],
             [
              0.4444444444444444,
              "#bd3786"
             ],
             [
              0.5555555555555556,
              "#d8576b"
             ],
             [
              0.6666666666666666,
              "#ed7953"
             ],
             [
              0.7777777777777778,
              "#fb9f3a"
             ],
             [
              0.8888888888888888,
              "#fdca26"
             ],
             [
              1,
              "#f0f921"
             ]
            ],
            "type": "heatmap"
           }
          ],
          "histogram": [
           {
            "marker": {
             "pattern": {
              "fillmode": "overlay",
              "size": 10,
              "solidity": 0.2
             }
            },
            "type": "histogram"
           }
          ],
          "histogram2d": [
           {
            "colorbar": {
             "outlinewidth": 0,
             "ticks": ""
            },
            "colorscale": [
             [
              0,
              "#0d0887"
             ],
             [
              0.1111111111111111,
              "#46039f"
             ],
             [
              0.2222222222222222,
              "#7201a8"
             ],
             [
              0.3333333333333333,
              "#9c179e"
             ],
             [
              0.4444444444444444,
              "#bd3786"
             ],
             [
              0.5555555555555556,
              "#d8576b"
             ],
             [
              0.6666666666666666,
              "#ed7953"
             ],
             [
              0.7777777777777778,
              "#fb9f3a"
             ],
             [
              0.8888888888888888,
              "#fdca26"
             ],
             [
              1,
              "#f0f921"
             ]
            ],
            "type": "histogram2d"
           }
          ],
          "histogram2dcontour": [
           {
            "colorbar": {
             "outlinewidth": 0,
             "ticks": ""
            },
            "colorscale": [
             [
              0,
              "#0d0887"
             ],
             [
              0.1111111111111111,
              "#46039f"
             ],
             [
              0.2222222222222222,
              "#7201a8"
             ],
             [
              0.3333333333333333,
              "#9c179e"
             ],
             [
              0.4444444444444444,
              "#bd3786"
             ],
             [
              0.5555555555555556,
              "#d8576b"
             ],
             [
              0.6666666666666666,
              "#ed7953"
             ],
             [
              0.7777777777777778,
              "#fb9f3a"
             ],
             [
              0.8888888888888888,
              "#fdca26"
             ],
             [
              1,
              "#f0f921"
             ]
            ],
            "type": "histogram2dcontour"
           }
          ],
          "mesh3d": [
           {
            "colorbar": {
             "outlinewidth": 0,
             "ticks": ""
            },
            "type": "mesh3d"
           }
          ],
          "parcoords": [
           {
            "line": {
             "colorbar": {
              "outlinewidth": 0,
              "ticks": ""
             }
            },
            "type": "parcoords"
           }
          ],
          "pie": [
           {
            "automargin": true,
            "type": "pie"
           }
          ],
          "scatter": [
           {
            "fillpattern": {
             "fillmode": "overlay",
             "size": 10,
             "solidity": 0.2
            },
            "type": "scatter"
           }
          ],
          "scatter3d": [
           {
            "line": {
             "colorbar": {
              "outlinewidth": 0,
              "ticks": ""
             }
            },
            "marker": {
             "colorbar": {
              "outlinewidth": 0,
              "ticks": ""
             }
            },
            "type": "scatter3d"
           }
          ],
          "scattercarpet": [
           {
            "marker": {
             "colorbar": {
              "outlinewidth": 0,
              "ticks": ""
             }
            },
            "type": "scattercarpet"
           }
          ],
          "scattergeo": [
           {
            "marker": {
             "colorbar": {
              "outlinewidth": 0,
              "ticks": ""
             }
            },
            "type": "scattergeo"
           }
          ],
          "scattergl": [
           {
            "marker": {
             "colorbar": {
              "outlinewidth": 0,
              "ticks": ""
             }
            },
            "type": "scattergl"
           }
          ],
          "scattermap": [
           {
            "marker": {
             "colorbar": {
              "outlinewidth": 0,
              "ticks": ""
             }
            },
            "type": "scattermap"
           }
          ],
          "scattermapbox": [
           {
            "marker": {
             "colorbar": {
              "outlinewidth": 0,
              "ticks": ""
             }
            },
            "type": "scattermapbox"
           }
          ],
          "scatterpolar": [
           {
            "marker": {
             "colorbar": {
              "outlinewidth": 0,
              "ticks": ""
             }
            },
            "type": "scatterpolar"
           }
          ],
          "scatterpolargl": [
           {
            "marker": {
             "colorbar": {
              "outlinewidth": 0,
              "ticks": ""
             }
            },
            "type": "scatterpolargl"
           }
          ],
          "scatterternary": [
           {
            "marker": {
             "colorbar": {
              "outlinewidth": 0,
              "ticks": ""
             }
            },
            "type": "scatterternary"
           }
          ],
          "surface": [
           {
            "colorbar": {
             "outlinewidth": 0,
             "ticks": ""
            },
            "colorscale": [
             [
              0,
              "#0d0887"
             ],
             [
              0.1111111111111111,
              "#46039f"
             ],
             [
              0.2222222222222222,
              "#7201a8"
             ],
             [
              0.3333333333333333,
              "#9c179e"
             ],
             [
              0.4444444444444444,
              "#bd3786"
             ],
             [
              0.5555555555555556,
              "#d8576b"
             ],
             [
              0.6666666666666666,
              "#ed7953"
             ],
             [
              0.7777777777777778,
              "#fb9f3a"
             ],
             [
              0.8888888888888888,
              "#fdca26"
             ],
             [
              1,
              "#f0f921"
             ]
            ],
            "type": "surface"
           }
          ],
          "table": [
           {
            "cells": {
             "fill": {
              "color": "#EBF0F8"
             },
             "line": {
              "color": "white"
             }
            },
            "header": {
             "fill": {
              "color": "#C8D4E3"
             },
             "line": {
              "color": "white"
             }
            },
            "type": "table"
           }
          ]
         },
         "layout": {
          "annotationdefaults": {
           "arrowcolor": "#2a3f5f",
           "arrowhead": 0,
           "arrowwidth": 1
          },
          "autotypenumbers": "strict",
          "coloraxis": {
           "colorbar": {
            "outlinewidth": 0,
            "ticks": ""
           }
          },
          "colorscale": {
           "diverging": [
            [
             0,
             "#8e0152"
            ],
            [
             0.1,
             "#c51b7d"
            ],
            [
             0.2,
             "#de77ae"
            ],
            [
             0.3,
             "#f1b6da"
            ],
            [
             0.4,
             "#fde0ef"
            ],
            [
             0.5,
             "#f7f7f7"
            ],
            [
             0.6,
             "#e6f5d0"
            ],
            [
             0.7,
             "#b8e186"
            ],
            [
             0.8,
             "#7fbc41"
            ],
            [
             0.9,
             "#4d9221"
            ],
            [
             1,
             "#276419"
            ]
           ],
           "sequential": [
            [
             0,
             "#0d0887"
            ],
            [
             0.1111111111111111,
             "#46039f"
            ],
            [
             0.2222222222222222,
             "#7201a8"
            ],
            [
             0.3333333333333333,
             "#9c179e"
            ],
            [
             0.4444444444444444,
             "#bd3786"
            ],
            [
             0.5555555555555556,
             "#d8576b"
            ],
            [
             0.6666666666666666,
             "#ed7953"
            ],
            [
             0.7777777777777778,
             "#fb9f3a"
            ],
            [
             0.8888888888888888,
             "#fdca26"
            ],
            [
             1,
             "#f0f921"
            ]
           ],
           "sequentialminus": [
            [
             0,
             "#0d0887"
            ],
            [
             0.1111111111111111,
             "#46039f"
            ],
            [
             0.2222222222222222,
             "#7201a8"
            ],
            [
             0.3333333333333333,
             "#9c179e"
            ],
            [
             0.4444444444444444,
             "#bd3786"
            ],
            [
             0.5555555555555556,
             "#d8576b"
            ],
            [
             0.6666666666666666,
             "#ed7953"
            ],
            [
             0.7777777777777778,
             "#fb9f3a"
            ],
            [
             0.8888888888888888,
             "#fdca26"
            ],
            [
             1,
             "#f0f921"
            ]
           ]
          },
          "colorway": [
           "#636efa",
           "#EF553B",
           "#00cc96",
           "#ab63fa",
           "#FFA15A",
           "#19d3f3",
           "#FF6692",
           "#B6E880",
           "#FF97FF",
           "#FECB52"
          ],
          "font": {
           "color": "#2a3f5f"
          },
          "geo": {
           "bgcolor": "white",
           "lakecolor": "white",
           "landcolor": "#E5ECF6",
           "showlakes": true,
           "showland": true,
           "subunitcolor": "white"
          },
          "hoverlabel": {
           "align": "left"
          },
          "hovermode": "closest",
          "mapbox": {
           "style": "light"
          },
          "paper_bgcolor": "white",
          "plot_bgcolor": "#E5ECF6",
          "polar": {
           "angularaxis": {
            "gridcolor": "white",
            "linecolor": "white",
            "ticks": ""
           },
           "bgcolor": "#E5ECF6",
           "radialaxis": {
            "gridcolor": "white",
            "linecolor": "white",
            "ticks": ""
           }
          },
          "scene": {
           "xaxis": {
            "backgroundcolor": "#E5ECF6",
            "gridcolor": "white",
            "gridwidth": 2,
            "linecolor": "white",
            "showbackground": true,
            "ticks": "",
            "zerolinecolor": "white"
           },
           "yaxis": {
            "backgroundcolor": "#E5ECF6",
            "gridcolor": "white",
            "gridwidth": 2,
            "linecolor": "white",
            "showbackground": true,
            "ticks": "",
            "zerolinecolor": "white"
           },
           "zaxis": {
            "backgroundcolor": "#E5ECF6",
            "gridcolor": "white",
            "gridwidth": 2,
            "linecolor": "white",
            "showbackground": true,
            "ticks": "",
            "zerolinecolor": "white"
           }
          },
          "shapedefaults": {
           "line": {
            "color": "#2a3f5f"
           }
          },
          "ternary": {
           "aaxis": {
            "gridcolor": "white",
            "linecolor": "white",
            "ticks": ""
           },
           "baxis": {
            "gridcolor": "white",
            "linecolor": "white",
            "ticks": ""
           },
           "bgcolor": "#E5ECF6",
           "caxis": {
            "gridcolor": "white",
            "linecolor": "white",
            "ticks": ""
           }
          },
          "title": {
           "x": 0.05
          },
          "xaxis": {
           "automargin": true,
           "gridcolor": "white",
           "linecolor": "white",
           "ticks": "",
           "title": {
            "standoff": 15
           },
           "zerolinecolor": "white",
           "zerolinewidth": 2
          },
          "yaxis": {
           "automargin": true,
           "gridcolor": "white",
           "linecolor": "white",
           "ticks": "",
           "title": {
            "standoff": 15
           },
           "zerolinecolor": "white",
           "zerolinewidth": 2
          }
         }
        },
        "title": {
         "text": "Google STock Price Candle Stick Chart"
        },
        "xaxis": {
         "title": {
          "text": "Date"
         }
        },
        "yaxis": {
         "title": {
          "text": "Price"
         }
        }
       }
      }
     },
     "metadata": {},
     "output_type": "display_data"
    }
   ],
   "source": [
    "#candle stick chart using plotly\n",
    "import plotly.graph_objects as go\n",
    "\n",
    "fig = go.Figure(\n",
    "    data=[\n",
    "        go.Candlestick(\n",
    "            x=df.index,\n",
    "            open=df['Open'],\n",
    "            high=df['High'],\n",
    "            low=df[\"Low\"],\n",
    "            close=df['Close']\n",
    "        )\n",
    "    ]\n",
    ")\n",
    "\n",
    "fig.update_layout(title=\"Google STock Price Candle Stick Chart\", xaxis_title=\"Date\", yaxis_title=\"Price\")\n",
    "fig.show()"
   ]
  },
  {
   "cell_type": "code",
   "execution_count": 46,
   "metadata": {},
   "outputs": [],
   "source": [
    "# moving averages from average value per time for smooth fluctuations\n",
    "df['50-day-SMA'] = df['Adj Close'].rolling(50).mean() # simple moving average \n",
    "df['200-day-SMA'] = df['Adj Close'].rolling(200).mean() # long term SMA\n"
   ]
  },
  {
   "cell_type": "code",
   "execution_count": 47,
   "metadata": {},
   "outputs": [
    {
     "data": {
      "image/png": "[encoded data removed]",
      "text/plain": [
       "<Figure size 1200x600 with 1 Axes>"
      ]
     },
     "metadata": {},
     "output_type": "display_data"
    }
   ],
   "source": [
    "#plot moving averages\n",
    "plt.figure(figsize=(12, 6))\n",
    "plt.plot(df.index, df['Adj Close'], color=\"blue\", label=\"Actual Price\")\n",
    "plt.plot(df.index, df['50-day-SMA'], color=\"red\", label=\"50 Day SMA\")\n",
    "plt.plot(df.index, df['200-day-SMA'], color=\"green\", label=\"200 Day SMA\")\n",
    "\n",
    "\n",
    "plt.xlabel(\"Date\")\n",
    "plt.ylabel(\"Stock Price\")\n",
    "plt.title(\"Google Stock Price with Moving Averages\")\n",
    "plt.legend()\n",
    "plt.grid()\n",
    "plt.show()\n"
   ]
  },
  {
   "cell_type": "code",
   "execution_count": 66,
   "metadata": {},
   "outputs": [],
   "source": [
    "#create lag features (Previous days prices as input)\n",
    "df[\"Prev_day_1\"] = df['Adj Close'].shift(1)\n",
    "df[\"Prev_day_2\"] = df['Adj Close'].shift(2)\n",
    "df[\"Prev_day_3\"] = df['Adj Close'].shift(3)\n",
    "df[\"Prev_day_4\"] = df['Adj Close'].shift(4)\n",
    "df[\"Prev_day_5\"] = df['Adj Close'].shift(5)\n",
    "\n",
    "df[\"Prev_day_6\"] = df['Adj Close'].shift(6)\n",
    "df[\"Prev_day_7\"] = df['Adj Close'].shift(7)\n",
    "\n"
   ]
  },
  {
   "cell_type": "code",
   "execution_count": 67,
   "metadata": {},
   "outputs": [],
   "source": [
    "df.dropna(inplace=True) # drop missing values in case some of them missed during shift"
   ]
  },
  {
   "cell_type": "code",
   "execution_count": 76,
   "metadata": {},
   "outputs": [
    {
     "data": {
      "text/html": [
       "<div>\n",
       "<style scoped>\n",
       "    .dataframe tbody tr th:only-of-type {\n",
       "        vertical-align: middle;\n",
       "    }\n",
       "\n",
       "    .dataframe tbody tr th {\n",
       "        vertical-align: top;\n",
       "    }\n",
       "\n",
       "    .dataframe thead th {\n",
       "        text-align: right;\n",
       "    }\n",
       "</style>\n",
       "<table border=\"1\" class=\"dataframe\">\n",
       "  <thead>\n",
       "    <tr style=\"text-align: right;\">\n",
       "      <th></th>\n",
       "      <th>Adj Close</th>\n",
       "      <th>Close</th>\n",
       "      <th>High</th>\n",
       "      <th>Low</th>\n",
       "      <th>Open</th>\n",
       "      <th>Volume</th>\n",
       "      <th>50-day SMA</th>\n",
       "      <th>200-day-SMA</th>\n",
       "      <th>50-day-SMA</th>\n",
       "      <th>Prev_day_1</th>\n",
       "      <th>Prev_day_2</th>\n",
       "      <th>Prev_day_3</th>\n",
       "      <th>Prev_day_4</th>\n",
       "      <th>Prev_day_5</th>\n",
       "      <th>Prev_day_6</th>\n",
       "      <th>Prev_day_7</th>\n",
       "    </tr>\n",
       "    <tr>\n",
       "      <th>Date</th>\n",
       "      <th></th>\n",
       "      <th></th>\n",
       "      <th></th>\n",
       "      <th></th>\n",
       "      <th></th>\n",
       "      <th></th>\n",
       "      <th></th>\n",
       "      <th></th>\n",
       "      <th></th>\n",
       "      <th></th>\n",
       "      <th></th>\n",
       "      <th></th>\n",
       "      <th></th>\n",
       "      <th></th>\n",
       "      <th></th>\n",
       "      <th></th>\n",
       "    </tr>\n",
       "  </thead>\n",
       "  <tbody>\n",
       "    <tr>\n",
       "      <th>2024-12-24 00:00:00+00:00</th>\n",
       "      <td>196.110001</td>\n",
       "      <td>196.110001</td>\n",
       "      <td>196.110001</td>\n",
       "      <td>193.779999</td>\n",
       "      <td>194.839996</td>\n",
       "      <td>10403300</td>\n",
       "      <td>175.528695</td>\n",
       "      <td>168.082616</td>\n",
       "      <td>175.528695</td>\n",
       "      <td>194.630005</td>\n",
       "      <td>191.410004</td>\n",
       "      <td>188.509995</td>\n",
       "      <td>188.399994</td>\n",
       "      <td>195.419998</td>\n",
       "      <td>196.660004</td>\n",
       "      <td>189.820007</td>\n",
       "    </tr>\n",
       "    <tr>\n",
       "      <th>2024-12-26 00:00:00+00:00</th>\n",
       "      <td>195.600006</td>\n",
       "      <td>195.600006</td>\n",
       "      <td>196.750000</td>\n",
       "      <td>194.380005</td>\n",
       "      <td>195.149994</td>\n",
       "      <td>12046600</td>\n",
       "      <td>176.135283</td>\n",
       "      <td>168.370617</td>\n",
       "      <td>176.135283</td>\n",
       "      <td>196.110001</td>\n",
       "      <td>194.630005</td>\n",
       "      <td>191.410004</td>\n",
       "      <td>188.509995</td>\n",
       "      <td>188.399994</td>\n",
       "      <td>195.419998</td>\n",
       "      <td>196.660004</td>\n",
       "    </tr>\n",
       "    <tr>\n",
       "      <th>2024-12-27 00:00:00+00:00</th>\n",
       "      <td>192.759995</td>\n",
       "      <td>192.759995</td>\n",
       "      <td>195.320007</td>\n",
       "      <td>190.649994</td>\n",
       "      <td>194.949997</td>\n",
       "      <td>18891400</td>\n",
       "      <td>176.691064</td>\n",
       "      <td>168.637992</td>\n",
       "      <td>176.691064</td>\n",
       "      <td>195.600006</td>\n",
       "      <td>196.110001</td>\n",
       "      <td>194.630005</td>\n",
       "      <td>191.410004</td>\n",
       "      <td>188.509995</td>\n",
       "      <td>188.399994</td>\n",
       "      <td>195.419998</td>\n",
       "    </tr>\n",
       "    <tr>\n",
       "      <th>2024-12-30 00:00:00+00:00</th>\n",
       "      <td>191.240005</td>\n",
       "      <td>191.240005</td>\n",
       "      <td>192.550003</td>\n",
       "      <td>189.119995</td>\n",
       "      <td>189.800003</td>\n",
       "      <td>14264700</td>\n",
       "      <td>177.260995</td>\n",
       "      <td>168.881276</td>\n",
       "      <td>177.260995</td>\n",
       "      <td>192.759995</td>\n",
       "      <td>195.600006</td>\n",
       "      <td>196.110001</td>\n",
       "      <td>194.630005</td>\n",
       "      <td>191.410004</td>\n",
       "      <td>188.509995</td>\n",
       "      <td>188.399994</td>\n",
       "    </tr>\n",
       "    <tr>\n",
       "      <th>2024-12-31 00:00:00+00:00</th>\n",
       "      <td>189.300003</td>\n",
       "      <td>189.300003</td>\n",
       "      <td>191.960007</td>\n",
       "      <td>188.509995</td>\n",
       "      <td>191.080002</td>\n",
       "      <td>17466900</td>\n",
       "      <td>177.782337</td>\n",
       "      <td>169.124426</td>\n",
       "      <td>177.782337</td>\n",
       "      <td>191.240005</td>\n",
       "      <td>192.759995</td>\n",
       "      <td>195.600006</td>\n",
       "      <td>196.110001</td>\n",
       "      <td>194.630005</td>\n",
       "      <td>191.410004</td>\n",
       "      <td>188.509995</td>\n",
       "    </tr>\n",
       "  </tbody>\n",
       "</table>\n",
       "</div>"
      ],
      "text/plain": [
       "                            Adj Close       Close        High         Low  \\\n",
       "Date                                                                        \n",
       "2024-12-24 00:00:00+00:00  196.110001  196.110001  196.110001  193.779999   \n",
       "2024-12-26 00:00:00+00:00  195.600006  195.600006  196.750000  194.380005   \n",
       "2024-12-27 00:00:00+00:00  192.759995  192.759995  195.320007  190.649994   \n",
       "2024-12-30 00:00:00+00:00  191.240005  191.240005  192.550003  189.119995   \n",
       "2024-12-31 00:00:00+00:00  189.300003  189.300003  191.960007  188.509995   \n",
       "\n",
       "                                 Open    Volume  50-day SMA  200-day-SMA  \\\n",
       "Date                                                                       \n",
       "2024-12-24 00:00:00+00:00  194.839996  10403300  175.528695   168.082616   \n",
       "2024-12-26 00:00:00+00:00  195.149994  12046600  176.135283   168.370617   \n",
       "2024-12-27 00:00:00+00:00  194.949997  18891400  176.691064   168.637992   \n",
       "2024-12-30 00:00:00+00:00  189.800003  14264700  177.260995   168.881276   \n",
       "2024-12-31 00:00:00+00:00  191.080002  17466900  177.782337   169.124426   \n",
       "\n",
       "                           50-day-SMA  Prev_day_1  Prev_day_2  Prev_day_3  \\\n",
       "Date                                                                        \n",
       "2024-12-24 00:00:00+00:00  175.528695  194.630005  191.410004  188.509995   \n",
       "2024-12-26 00:00:00+00:00  176.135283  196.110001  194.630005  191.410004   \n",
       "2024-12-27 00:00:00+00:00  176.691064  195.600006  196.110001  194.630005   \n",
       "2024-12-30 00:00:00+00:00  177.260995  192.759995  195.600006  196.110001   \n",
       "2024-12-31 00:00:00+00:00  177.782337  191.240005  192.759995  195.600006   \n",
       "\n",
       "                           Prev_day_4  Prev_day_5  Prev_day_6  Prev_day_7  \n",
       "Date                                                                       \n",
       "2024-12-24 00:00:00+00:00  188.399994  195.419998  196.660004  189.820007  \n",
       "2024-12-26 00:00:00+00:00  188.509995  188.399994  195.419998  196.660004  \n",
       "2024-12-27 00:00:00+00:00  191.410004  188.509995  188.399994  195.419998  \n",
       "2024-12-30 00:00:00+00:00  194.630005  191.410004  188.509995  188.399994  \n",
       "2024-12-31 00:00:00+00:00  196.110001  194.630005  191.410004  188.509995  "
      ]
     },
     "execution_count": 76,
     "metadata": {},
     "output_type": "execute_result"
    }
   ],
   "source": [
    "df.tail()"
   ]
  },
  {
   "cell_type": "code",
   "execution_count": 81,
   "metadata": {},
   "outputs": [],
   "source": [
    "from sklearn.model_selection import train_test_split\n",
    "from sklearn.preprocessing import MinMaxScaler\n",
    "\n",
    "\n",
    "# split train and test data\n",
    "X = df[[\"Prev_day_1\",\"Prev_day_2\", 'Prev_day_3' ]]\n",
    "y = df['Adj Close']\n",
    "\n",
    "X_train, X_test, y_train, y_test = train_test_split(X, y, test_size=0.2, random_state=42)"
   ]
  },
  {
   "cell_type": "code",
   "execution_count": 82,
   "metadata": {},
   "outputs": [
    {
     "data": {
      "text/plain": [
       "2.7088309872985787"
      ]
     },
     "execution_count": 82,
     "metadata": {},
     "output_type": "execute_result"
    }
   ],
   "source": [
    "from sklearn.tree import DecisionTreeRegressor\n",
    "from sklearn.metrics import mean_absolute_error, r2_score\n",
    "\n",
    "dt_model = DecisionTreeRegressor()\n",
    "dt_model.fit(X_train, y_train)\n",
    "\n",
    "y_pred_dt = dt_model.predict(X_test)\n",
    "\n",
    "mean_absolute_error(y_test, y_pred_dt)\n"
   ]
  },
  {
   "cell_type": "code",
   "execution_count": 71,
   "metadata": {},
   "outputs": [
    {
     "data": {
      "text/plain": [
       "0.984057410256505"
      ]
     },
     "execution_count": 71,
     "metadata": {},
     "output_type": "execute_result"
    }
   ],
   "source": [
    "r2_score(y_test, y_pred_dt)"
   ]
  },
  {
   "cell_type": "code",
   "execution_count": 83,
   "metadata": {},
   "outputs": [
    {
     "name": "stdout",
     "output_type": "stream",
     "text": [
      "1.9199513078781945\n",
      "0.9905422156972334\n"
     ]
    }
   ],
   "source": [
    "from sklearn.ensemble import RandomForestRegressor\n",
    "\n",
    "rf_model = RandomForestRegressor(n_estimators=100, random_state=42)\n",
    "rf_model.fit(X_train, y_train)\n",
    "\n",
    "y_pred_rf = rf_model.predict(X_test)\n",
    "\n",
    "print(mean_absolute_error(y_test, y_pred_rf))\n",
    "print(r2_score(y_test, y_pred_rf))"
   ]
  },
  {
   "cell_type": "code",
   "execution_count": 74,
   "metadata": {},
   "outputs": [
    {
     "data": {
      "image/png": "[encoded data removed]",
      "text/plain": [
       "<Figure size 1200x600 with 1 Axes>"
      ]
     },
     "metadata": {},
     "output_type": "display_data"
    }
   ],
   "source": [
    "plt.figure(figsize=(12, 6))\n",
    "plt.scatter(y_test.index, y_test, label=\"Actual Price\", color=\"blue\")\n",
    "plt.scatter(y_test.index, y_pred_rf, label=\"Predicted Prices Random Forest\", color=\"red\")\n",
    "\n",
    "plt.xlabel(\"Date\")\n",
    "plt.ylabel(\"Stock Price\")\n",
    "plt.title(\"Google stock price prediction using Random Forest \")\n",
    "plt.show()\n"
   ]
  },
  {
   "cell_type": "code",
   "execution_count": 75,
   "metadata": {},
   "outputs": [
    {
     "data": {
      "image/png": "[encoded data removed]",
      "text/plain": [
       "<Figure size 1200x600 with 1 Axes>"
      ]
     },
     "metadata": {},
     "output_type": "display_data"
    }
   ],
   "source": [
    "plt.figure(figsize=(12, 6))\n",
    "plt.scatter(y_test.index, y_test, label=\"Actual Price\", color=\"blue\")\n",
    "plt.scatter(y_test.index, y_pred_dt, label=\"Predicted Prices Decison Tree\", color=\"red\")\n",
    "\n",
    "plt.xlabel(\"Date\")\n",
    "plt.ylabel(\"Stock Price\")\n",
    "plt.title(\"Google stock price prediction using Decision Tree \")\n",
    "plt.show()\n"
   ]
  },
  {
   "cell_type": "code",
   "execution_count": 84,
   "metadata": {},
   "outputs": [],
   "source": [
    "import numpy as np\n",
    "\n",
    "#get last available row(most recent stock price)\n",
    "latest_data = df.iloc[-1][['Prev_day_1', 'Prev_day_2', 'Prev_day_3']].values.reshape(1, -1)\n"
   ]
  },
  {
   "cell_type": "code",
   "execution_count": 85,
   "metadata": {},
   "outputs": [
    {
     "name": "stderr",
     "output_type": "stream",
     "text": [
      "c:\\Users\\LENOVO\\Desktop\\python-ai-class\\.venv\\Lib\\site-packages\\sklearn\\utils\\validation.py:2739: UserWarning:\n",
      "\n",
      "X does not have valid feature names, but RandomForestRegressor was fitted with feature names\n",
      "\n"
     ]
    }
   ],
   "source": [
    "tomorrow_price = rf_model.predict(latest_data)"
   ]
  },
  {
   "cell_type": "code",
   "execution_count": 88,
   "metadata": {},
   "outputs": [
    {
     "data": {
      "text/plain": [
       "'Google Stock Price for Tomorrow.\\n    In this data 2024/12/31 was last day). \\n    SO we are predicting 2025/1/1 price\\n     190.38\\n    \\n    '"
      ]
     },
     "execution_count": 88,
     "metadata": {},
     "output_type": "execute_result"
    }
   ],
   "source": [
    "f\"\"\"Google Stock Price for Tomorrow.\n",
    "    In this data 2024/12/31 was last day). \n",
    "    SO we are predicting 2025/1/1 price\n",
    "     {tomorrow_price[0]:.2f}\n",
    "    \n",
    "    \"\"\""
   ]
  }
 ],
 "metadata": {
  "kernelspec": {
   "display_name": ".venv",
   "language": "python",
   "name": "python3"
  },
  "language_info": {
   "codemirror_mode": {
    "name": "ipython",
    "version": 3
   },
   "file_extension": ".py",
   "mimetype": "text/x-python",
   "name": "python",
   "nbconvert_exporter": "python",
   "pygments_lexer": "ipython3",
   "version": "3.12.6"
  }
 },
 "nbformat": 4,
 "nbformat_minor": 2
}
